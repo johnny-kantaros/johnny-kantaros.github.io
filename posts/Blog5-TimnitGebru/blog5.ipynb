{
 "cells": [
  {
   "cell_type": "raw",
   "metadata": {},
   "source": [
    "---\n",
    "title: Timnit Gebru\n",
    "author: Johnny Kantaros\n",
    "date: '2023-05-01'\n",
    "image: \"TG.png\"\n",
    "description: \"Learning from Timnit Gebru.\"\n",
    "format: html\n",
    "---"
   ]
  },
  {
   "attachments": {},
   "cell_type": "markdown",
   "metadata": {},
   "source": [
    "# Part 1: Questions for Dr. Gebru"
   ]
  },
  {
   "attachments": {},
   "cell_type": "markdown",
   "metadata": {},
   "source": [
    "## Introduction"
   ]
  },
  {
   "attachments": {},
   "cell_type": "markdown",
   "metadata": {},
   "source": [
    "On Monday, April 24, Dr. Gebru is virtually visiting Middlebury to speak with both our class and the rest of campus.  \n",
    "\n",
    "Dr. Gebru is an accomplished Computer Scientist and researcher who is best known for her contributions to the field of ethical AI, bias, and fairness. After being raised in Ethiopia, she moved to the United States where she attended Stanford, completing both a Bachelor's degree and Master's degree in Electrical Engineering, and a PhD in Computer Vision. After completing her PhD, Gebru joined Microsoft where she worked as a postdoctoral researcher in the Fairness, Accountability, Transparency, and Ethics in AI (FATE) lab. This group focused on addressing the issues of bias and fairness present in algorithms and promoted responsible deployment. Gebru then joined Google in 2018, where she took a leadership position in analyzing algorithmic bias and ethics related to AI. In 2020, she was abruptly fired from Google following multiple papers which highlighted biases and ethical concerns in the tech industry, especially relating to her experience at Google. Her termination sparked widespread controversy and outrage, which shed light on the power dynamics in the industry. Since then, Dr. Gebru has worked independently, and she has recently launched a venture called, \"Black in AI,\" which will model her research performed at Google and attempt to shed even more light on bias and fairness in the tech industry."
   ]
  },
  {
   "attachments": {},
   "cell_type": "markdown",
   "metadata": {},
   "source": [
    "## 2020 Speech"
   ]
  },
  {
   "attachments": {},
   "cell_type": "markdown",
   "metadata": {},
   "source": [
    "In her 2020 speech, Dr. Gebru analyzes bias and discrimination in computer vision. For much of her talk, she focuses on societal and ethical impacts of common computer vision applications, including facial recognition and gender classification.  \n",
    "\n",
    "As she states in the beginning of her speech, the area of bias and fairness in computer vision is very underrepresented by minority groups, which is problematic as computer vision applications has been proven to disproportionately harm these communities. She also speaks about commonly used datasets that are used to train computer vision models. More specifically, she makes a call for more data diversity in order to better represent marginalized groups. Because these datasets are often comprised of privileged individuals (white, male, etc), the resulting models are often disproportionately harmful to black and brown communities. For example, classification algorithms which predict an individual's race and sex are much better at predicting white men than black women. Another example she made was car tests, which typically use white men to test the effectivity of the vehicle. Consequently, women and children are often the victims of car accident deaths in these cars. Finally, she mentions the fact that most clinical drug testing is performed on white people/men, and therefore most adverse reactions stem from minority groups.   \n",
    "\n",
    "Additionally, she discusses the applications of common computer vision applications. For example, she argues that AI can be bias in facial recognition. She brings up the application of Baltimore PD who used facial recognition for surveillance purposes. The result of this implementation ended up disproportionally hurting minorities in the Baltimore community and lead to the arrest of many black people. Additionally, facial recognition has a major impact on immigrants and is the cause of many immigrants being deported due to ICE violations.  \n",
    "\n",
    "Finally, she brings up the question of \"why implement these algorithms in the first place.\" I have never heard this argument before, and I think she makes a lot of valid points. For example, why do we need gender classification algorithms? A large application of this model is used for targeting advertising, but as she argues, this only reaffirms existing gender stereotypes. We as a society need to consider the \"why\" question when implementing algorithms and consider the ethical and societal impact the technology will have."
   ]
  },
  {
   "attachments": {},
   "cell_type": "markdown",
   "metadata": {},
   "source": [
    "## Proposed question"
   ]
  },
  {
   "attachments": {},
   "cell_type": "markdown",
   "metadata": {},
   "source": [
    "You spoke about the need for more diversity in common datasets, yet also mentioned the problem with taking photos and data from minorities without explicit consent. Even with consent, often times this data can be used for harm. What is the solution to this problem? That is, how do we find a balance between making sure minorities are represented in datasets while also respecting privacy?"
   ]
  },
  {
   "attachments": {},
   "cell_type": "markdown",
   "metadata": {},
   "source": [
    "# Part 2 - Dr. Gebru’s Talk “At” Middlebury"
   ]
  },
  {
   "attachments": {},
   "cell_type": "markdown",
   "metadata": {},
   "source": [
    "On Monday, Dr. Gebru virtually visited our class and gave a ~50 minute lecture, leaving time for questions at the end. She started off her time by discussing the recent rise in AGI (Artificial General Intelligence) and the origin of this field. More specifically, she noted that AGI's central mission is to build a God-like model with exceptional intelligence. Unlike many ML models which we have examined in class, the purpose of AGI is to create a _general_ intelligence, one that is both approachable and limitless in its capabilities. "
   ]
  },
  {
   "attachments": {},
   "cell_type": "markdown",
   "metadata": {},
   "source": [
    "For the next part of her lecture, Dr. Gebru discussed the history of eugenics and its connection to AI. As she noted, there have been multiple waves of eugenics throughout time. The first, and most notable, took place in the late 19th century and lasted until the early 20th century. This wave was popularized by British scientist Francis Galton (who was a cousin of Charles Darwin). Galton and other eugenicists believed in selective breeding in the human race to limit the spreading of \"undesirable traits.\"  \n",
    "\n",
    "Dr. Gebru argued that eugenics did not end after World War II. Instead, we saw a second wave spread in the second half of the 20th century. This time, not only was there a focus on negative eugenics (including sterilization), but we also saw an emergence of \"positive eugenics.\" With the rise of medical technology, certain procedures such as gene editing came into the scene. Since their conception in society, these procedures have been very contentious. The idea of creating \"genetically superior\" humans disturbed many individuals, and the accessibility of these procedures also raised the question of fairness and adverse effects. That is, who would be able to afford these procedures, and who would be left behind?  \n",
    "\n",
    "Finally, Dr. Gebru explained the most recent wave of eugenics, which she argued is taking place right now. This time, the rise of AGI is creating a scenario in which we may soon be able to transcend humanity all together. This concept is properly coined, \"Transhumanism.\" In this wave, humans will soon merge with technology. Transhumanists believe AGI can be used to enhance the human experience and even permit \"an indefinite lifespan to those who choose to leave biology behind.\" She described the point of \"singularity,\" in which the rate of technology has progressed so fast that it is unstoppable and smarter than humans. She anticipated that the singularity could be reached sooner rather than later, much to the dismay of many students in the room.  \n",
    "\n"
   ]
  },
  {
   "attachments": {},
   "cell_type": "markdown",
   "metadata": {},
   "source": [
    "She ended her talk by raising the question: AGI Utopia - For Whom?  \n",
    "\n",
    "This was a very interesting segment in her lecture. When we typically think about AGI, we think about all the applications (ex. ChatGPT, biological enhancements, etc), but we forget to consider the relevant stakeholders. More specifically, who benefits from the rise of AGI, and who suffers?  \n",
    "\n",
    "Dr. Gebru believes the biggest beneficiary of AGI will be the companies who make it, such as Open AI and Google. She believes their is massive exploitation in the industry and brought up the example of Open AI hiring cheap labor from foreign countries to train the content moderation of ChatGPT. There have been accounts of severe mental health problems following these employments, and Open AI only paid $2/hour for these workers to read and react to horrible content all day long.  \n",
    "\n",
    "Finally, I want to mention the AGI Apocalypse Dr. Gebru mentioned towards the end of her speech. In her words, she believes AGI poses a massive risk of destroying any chance of \"utopia\" in society. She notes that while people are concerned about safety issues, there has been a gradual shift in accountability away from developers and instead towards the AGI itself. This is a dangerous trend, and she called for developers to remain accountable for their creations.  "
   ]
  },
  {
   "attachments": {},
   "cell_type": "markdown",
   "metadata": {},
   "source": [
    "### My thoughts"
   ]
  },
  {
   "attachments": {},
   "cell_type": "markdown",
   "metadata": {},
   "source": [
    "I really enjoyed Dr. Gebru's talk, and I believe she raised some important issues. First of all, I did not know about the rise of Transhumanism, and I was shocked to hear about the proposed applications and associated ideology. She was spot on with her discussion of the singularity, and I believe we have already seen this concept materialize in our society today. While we have not hit the true point of no return, we have seen how fast AGI is progressing, and how almost everyday it gets smarter. For example, only a few months after the widespread release of ChatGPT, we are seeing other companies release their own advanced AGI - Snapchat and Einstein (Salesforce) are two examples that have been very popular in the news recently. This race to the top is what Dr. Gebru fears, and the point of singularity may be sooner than we think.  \n",
    "\n",
    "I mostly agree in her analysis of \"AGI Utopia - For Whom?\" She is correct in her assessment that many people are harmed by the rise of AGI. More specifically, I thought her example of the content moderation process was particularly powerful. Furthermore, I think her connection to eugenics more or less worked. I do agree that AGI in the Transhumanist context will absolutely benefit certain groups more than others. However, I was not positive eugenics was the correct assessment of this movement. As someone asked in the Q&A, couldn't this just been seen as a \"trickle down\" instance in which new technology starts at the top of the societal pyramid and slowly makes its way down to those with lesser means? I agreed with this perspective a little more than the idea of eugenics when analyzing this phenomenon. Does that mean everyone will benefit equally? Absolutely not. I believe the idea of Transhumanism is very scary and needs strict regulation. I also believe we need more people like her working in the field to assess biases and fairness within AGI and technological advancements.  \n",
    "\n",
    "Finally, I have mixed opinions about her strong pessimism towards the future of AGI. I believe there are many positive applications of advanced technology being created. For example, I believe AGI will soon be used to cure many diseases and impairments, which will change the lives of many people. Like most technologies in society, there will be a large spectrum of its use. For example, just because the dark web exists does not mean the internet should be shut down entirely. While I do understand the scope and danger of AGI surpasses this example, I think we need to approach the topic with a similar mindset. I believe congress needs to implement strict legislation, and we as a society need to shift the accountability back towards the developers.  "
   ]
  },
  {
   "attachments": {},
   "cell_type": "markdown",
   "metadata": {},
   "source": [
    "# Part 3 - Closing remarks"
   ]
  },
  {
   "attachments": {},
   "cell_type": "markdown",
   "metadata": {},
   "source": [
    "Dr. Gebru's visit was very enlightening for me. Although I am familiar with ChatGPT and the idea of AGI, I had never learned the formal definition and origin story of the concept. I also learned a lot about ethical concerns in AGI, ranging from labor exploitation to privacy to ideas of eugenics. I found it empowering that there are people out there fighting for these concerns and inequalities. I am always fearful that not enough people go into this field, so it is re-encouraging to hear from a leader and learn about her work. As a result of this talk, I want to dig deeper into the positive aspects of AGI and see if they are worth fighting for. Coincidentally, I am about to start writing a research paper on Elon Musk's Neuralink, which should be interesting after listening to this speech. "
   ]
  }
 ],
 "metadata": {
  "language_info": {
   "name": "python"
  },
  "orig_nbformat": 4
 },
 "nbformat": 4,
 "nbformat_minor": 2
}
