{
 "cells": [
  {
   "attachments": {},
   "cell_type": "markdown",
   "metadata": {},
   "source": [
    "# Penguins Blog"
   ]
  },
  {
   "attachments": {},
   "cell_type": "markdown",
   "metadata": {},
   "source": [
    "## Introduction"
   ]
  },
  {
   "attachments": {},
   "cell_type": "markdown",
   "metadata": {},
   "source": [
    "##### In this blog post, I will be working with the \"Penguins dataset.\" This dataset is a mix of quantitative and qualitative features and relates to various penguin species. The goal of this assignment is to ultimately create a model which can accurately predict a penguin's species based on the rest of the features. Before this step, I will perform a series of preprocessing techniques. I will begin with data wrangling, visualization, exploratory data analysis, and then move on to data preparation and feature selection."
   ]
  },
  {
   "attachments": {},
   "cell_type": "markdown",
   "metadata": {},
   "source": [
    "## Part 1: Data wrangling"
   ]
  },
  {
   "attachments": {},
   "cell_type": "markdown",
   "metadata": {},
   "source": [
    "##### In this first part of this blog, we will import the dataset and perform exploratory data analysis, visualize the data, and prepare it for further modeling."
   ]
  },
  {
   "attachments": {},
   "cell_type": "markdown",
   "metadata": {},
   "source": [
    "### Import the training data set."
   ]
  },
  {
   "attachments": {},
   "cell_type": "markdown",
   "metadata": {},
   "source": [
    "##### We will split our data into training and testing components in order to avoid overfitting. By using a train/test split, we can train our various models on the train data and analyze performance using the test data. It is IMPERATIVE that the model does not see the test data until the very end. "
   ]
  },
  {
   "cell_type": "code",
   "execution_count": 2,
   "metadata": {},
   "outputs": [],
   "source": [
    "import pandas as pd\n",
    "import numpy as np\n",
    "\n",
    "train_url = \"https://raw.githubusercontent.com/middlebury-csci-0451/CSCI-0451/main/data/palmer-penguins/train.csv\"\n",
    "train = pd.read_csv(train_url)"
   ]
  },
  {
   "attachments": {},
   "cell_type": "markdown",
   "metadata": {},
   "source": [
    "Once we have the training dataset stored in a Pandas dataframe, we can view the shape and first few rows using the built in head() function:"
   ]
  },
  {
   "cell_type": "code",
   "execution_count": 3,
   "metadata": {},
   "outputs": [
    {
     "data": {
      "text/html": [
       "<div>\n",
       "<style scoped>\n",
       "    .dataframe tbody tr th:only-of-type {\n",
       "        vertical-align: middle;\n",
       "    }\n",
       "\n",
       "    .dataframe tbody tr th {\n",
       "        vertical-align: top;\n",
       "    }\n",
       "\n",
       "    .dataframe thead th {\n",
       "        text-align: right;\n",
       "    }\n",
       "</style>\n",
       "<table border=\"1\" class=\"dataframe\">\n",
       "  <thead>\n",
       "    <tr style=\"text-align: right;\">\n",
       "      <th></th>\n",
       "      <th>studyName</th>\n",
       "      <th>Sample Number</th>\n",
       "      <th>Species</th>\n",
       "      <th>Region</th>\n",
       "      <th>Island</th>\n",
       "      <th>Stage</th>\n",
       "      <th>Individual ID</th>\n",
       "      <th>Clutch Completion</th>\n",
       "      <th>Date Egg</th>\n",
       "      <th>Culmen Length (mm)</th>\n",
       "      <th>Culmen Depth (mm)</th>\n",
       "      <th>Flipper Length (mm)</th>\n",
       "      <th>Body Mass (g)</th>\n",
       "      <th>Sex</th>\n",
       "      <th>Delta 15 N (o/oo)</th>\n",
       "      <th>Delta 13 C (o/oo)</th>\n",
       "      <th>Comments</th>\n",
       "    </tr>\n",
       "  </thead>\n",
       "  <tbody>\n",
       "    <tr>\n",
       "      <th>0</th>\n",
       "      <td>PAL0708</td>\n",
       "      <td>27</td>\n",
       "      <td>Gentoo penguin (Pygoscelis papua)</td>\n",
       "      <td>Anvers</td>\n",
       "      <td>Biscoe</td>\n",
       "      <td>Adult, 1 Egg Stage</td>\n",
       "      <td>N46A1</td>\n",
       "      <td>Yes</td>\n",
       "      <td>11/29/07</td>\n",
       "      <td>44.5</td>\n",
       "      <td>14.3</td>\n",
       "      <td>216.0</td>\n",
       "      <td>4100.0</td>\n",
       "      <td>NaN</td>\n",
       "      <td>7.96621</td>\n",
       "      <td>-25.69327</td>\n",
       "      <td>NaN</td>\n",
       "    </tr>\n",
       "    <tr>\n",
       "      <th>1</th>\n",
       "      <td>PAL0708</td>\n",
       "      <td>22</td>\n",
       "      <td>Gentoo penguin (Pygoscelis papua)</td>\n",
       "      <td>Anvers</td>\n",
       "      <td>Biscoe</td>\n",
       "      <td>Adult, 1 Egg Stage</td>\n",
       "      <td>N41A2</td>\n",
       "      <td>Yes</td>\n",
       "      <td>11/27/07</td>\n",
       "      <td>45.1</td>\n",
       "      <td>14.5</td>\n",
       "      <td>215.0</td>\n",
       "      <td>5000.0</td>\n",
       "      <td>FEMALE</td>\n",
       "      <td>7.63220</td>\n",
       "      <td>-25.46569</td>\n",
       "      <td>NaN</td>\n",
       "    </tr>\n",
       "    <tr>\n",
       "      <th>2</th>\n",
       "      <td>PAL0910</td>\n",
       "      <td>124</td>\n",
       "      <td>Adelie Penguin (Pygoscelis adeliae)</td>\n",
       "      <td>Anvers</td>\n",
       "      <td>Torgersen</td>\n",
       "      <td>Adult, 1 Egg Stage</td>\n",
       "      <td>N67A2</td>\n",
       "      <td>Yes</td>\n",
       "      <td>11/16/09</td>\n",
       "      <td>41.4</td>\n",
       "      <td>18.5</td>\n",
       "      <td>202.0</td>\n",
       "      <td>3875.0</td>\n",
       "      <td>MALE</td>\n",
       "      <td>9.59462</td>\n",
       "      <td>-25.42621</td>\n",
       "      <td>NaN</td>\n",
       "    </tr>\n",
       "    <tr>\n",
       "      <th>3</th>\n",
       "      <td>PAL0910</td>\n",
       "      <td>146</td>\n",
       "      <td>Adelie Penguin (Pygoscelis adeliae)</td>\n",
       "      <td>Anvers</td>\n",
       "      <td>Dream</td>\n",
       "      <td>Adult, 1 Egg Stage</td>\n",
       "      <td>N82A2</td>\n",
       "      <td>Yes</td>\n",
       "      <td>11/16/09</td>\n",
       "      <td>39.0</td>\n",
       "      <td>18.7</td>\n",
       "      <td>185.0</td>\n",
       "      <td>3650.0</td>\n",
       "      <td>MALE</td>\n",
       "      <td>9.22033</td>\n",
       "      <td>-26.03442</td>\n",
       "      <td>NaN</td>\n",
       "    </tr>\n",
       "    <tr>\n",
       "      <th>4</th>\n",
       "      <td>PAL0708</td>\n",
       "      <td>24</td>\n",
       "      <td>Chinstrap penguin (Pygoscelis antarctica)</td>\n",
       "      <td>Anvers</td>\n",
       "      <td>Dream</td>\n",
       "      <td>Adult, 1 Egg Stage</td>\n",
       "      <td>N85A2</td>\n",
       "      <td>No</td>\n",
       "      <td>11/28/07</td>\n",
       "      <td>50.6</td>\n",
       "      <td>19.4</td>\n",
       "      <td>193.0</td>\n",
       "      <td>3800.0</td>\n",
       "      <td>MALE</td>\n",
       "      <td>9.28153</td>\n",
       "      <td>-24.97134</td>\n",
       "      <td>NaN</td>\n",
       "    </tr>\n",
       "  </tbody>\n",
       "</table>\n",
       "</div>"
      ],
      "text/plain": [
       "  studyName  Sample Number                                    Species  Region  \\\n",
       "0   PAL0708             27          Gentoo penguin (Pygoscelis papua)  Anvers   \n",
       "1   PAL0708             22          Gentoo penguin (Pygoscelis papua)  Anvers   \n",
       "2   PAL0910            124        Adelie Penguin (Pygoscelis adeliae)  Anvers   \n",
       "3   PAL0910            146        Adelie Penguin (Pygoscelis adeliae)  Anvers   \n",
       "4   PAL0708             24  Chinstrap penguin (Pygoscelis antarctica)  Anvers   \n",
       "\n",
       "      Island               Stage Individual ID Clutch Completion  Date Egg  \\\n",
       "0     Biscoe  Adult, 1 Egg Stage         N46A1               Yes  11/29/07   \n",
       "1     Biscoe  Adult, 1 Egg Stage         N41A2               Yes  11/27/07   \n",
       "2  Torgersen  Adult, 1 Egg Stage         N67A2               Yes  11/16/09   \n",
       "3      Dream  Adult, 1 Egg Stage         N82A2               Yes  11/16/09   \n",
       "4      Dream  Adult, 1 Egg Stage         N85A2                No  11/28/07   \n",
       "\n",
       "   Culmen Length (mm)  Culmen Depth (mm)  Flipper Length (mm)  Body Mass (g)  \\\n",
       "0                44.5               14.3                216.0         4100.0   \n",
       "1                45.1               14.5                215.0         5000.0   \n",
       "2                41.4               18.5                202.0         3875.0   \n",
       "3                39.0               18.7                185.0         3650.0   \n",
       "4                50.6               19.4                193.0         3800.0   \n",
       "\n",
       "      Sex  Delta 15 N (o/oo)  Delta 13 C (o/oo) Comments  \n",
       "0     NaN            7.96621          -25.69327      NaN  \n",
       "1  FEMALE            7.63220          -25.46569      NaN  \n",
       "2    MALE            9.59462          -25.42621      NaN  \n",
       "3    MALE            9.22033          -26.03442      NaN  \n",
       "4    MALE            9.28153          -24.97134      NaN  "
      ]
     },
     "execution_count": 3,
     "metadata": {},
     "output_type": "execute_result"
    }
   ],
   "source": [
    "train.head()"
   ]
  },
  {
   "attachments": {},
   "cell_type": "markdown",
   "metadata": {},
   "source": [
    "##### Some things to notice off the bat:  \n",
    "1. There are a lot of features. For our modeling section, we will probably want to narrow these down.\n",
    "2. There are a mix of qualitative and quantitative features.\n",
    "3. The species feature will be our target variable. That is, we will attempt to use the other features to predict the species of each penguin.  \n",
    "4. There is some NaN or incomplete data. We will want to either impute or remove these instances"
   ]
  },
  {
   "attachments": {},
   "cell_type": "markdown",
   "metadata": {},
   "source": [
    "#### Shorten Names of Species for visualization"
   ]
  },
  {
   "attachments": {},
   "cell_type": "markdown",
   "metadata": {},
   "source": [
    "In our training dataset, you will notice that our target feature, species, has very long winded names for the various species of penguins. To simplify this (which will be useful when visualizing these names), we will use the pandas \"replace\" method to shorten the names:"
   ]
  },
  {
   "cell_type": "code",
   "execution_count": 4,
   "metadata": {},
   "outputs": [],
   "source": [
    "# Replace species for easier visualization\n",
    "\n",
    "train = train.replace({\"Gentoo penguin (Pygoscelis papua)\":\"Gentoo\", \n",
    "                       \"Adelie Penguin (Pygoscelis adeliae)\":\"Adelie\", \n",
    "                       \"Chinstrap penguin (Pygoscelis antarctica)\": \"Chinstrap\"})"
   ]
  },
  {
   "attachments": {},
   "cell_type": "markdown",
   "metadata": {},
   "source": [
    "#### Drop comments column"
   ]
  },
  {
   "attachments": {},
   "cell_type": "markdown",
   "metadata": {},
   "source": [
    "Additionally, let's drop the comments feature. Not only is it NaN primarily, but it also will not be useful in our model. To perform this task, we can use the drop() method in the pandas framework."
   ]
  },
  {
   "cell_type": "code",
   "execution_count": 5,
   "metadata": {},
   "outputs": [],
   "source": [
    "train = train.drop(\"Comments\", axis = 1)"
   ]
  },
  {
   "attachments": {},
   "cell_type": "markdown",
   "metadata": {},
   "source": [
    "#### Next, let's examine the entries in our Region column:"
   ]
  },
  {
   "cell_type": "code",
   "execution_count": 6,
   "metadata": {},
   "outputs": [
    {
     "data": {
      "text/plain": [
       "array(['Anvers'], dtype=object)"
      ]
     },
     "execution_count": 6,
     "metadata": {},
     "output_type": "execute_result"
    }
   ],
   "source": [
    "train[\"Region\"].unique()"
   ]
  },
  {
   "attachments": {},
   "cell_type": "markdown",
   "metadata": {},
   "source": [
    "Because there is only one unique value in this column, it will not help us in our analysis. Therefore, we can drop this column as well:"
   ]
  },
  {
   "cell_type": "code",
   "execution_count": 7,
   "metadata": {},
   "outputs": [],
   "source": [
    "train = train.drop(\"Region\", axis = 1)"
   ]
  },
  {
   "attachments": {},
   "cell_type": "markdown",
   "metadata": {},
   "source": [
    "#### Now, let's view our updated dataset"
   ]
  },
  {
   "cell_type": "code",
   "execution_count": 8,
   "metadata": {},
   "outputs": [
    {
     "data": {
      "text/html": [
       "<div>\n",
       "<style scoped>\n",
       "    .dataframe tbody tr th:only-of-type {\n",
       "        vertical-align: middle;\n",
       "    }\n",
       "\n",
       "    .dataframe tbody tr th {\n",
       "        vertical-align: top;\n",
       "    }\n",
       "\n",
       "    .dataframe thead th {\n",
       "        text-align: right;\n",
       "    }\n",
       "</style>\n",
       "<table border=\"1\" class=\"dataframe\">\n",
       "  <thead>\n",
       "    <tr style=\"text-align: right;\">\n",
       "      <th></th>\n",
       "      <th>studyName</th>\n",
       "      <th>Sample Number</th>\n",
       "      <th>Species</th>\n",
       "      <th>Island</th>\n",
       "      <th>Stage</th>\n",
       "      <th>Individual ID</th>\n",
       "      <th>Clutch Completion</th>\n",
       "      <th>Date Egg</th>\n",
       "      <th>Culmen Length (mm)</th>\n",
       "      <th>Culmen Depth (mm)</th>\n",
       "      <th>Flipper Length (mm)</th>\n",
       "      <th>Body Mass (g)</th>\n",
       "      <th>Sex</th>\n",
       "      <th>Delta 15 N (o/oo)</th>\n",
       "      <th>Delta 13 C (o/oo)</th>\n",
       "    </tr>\n",
       "  </thead>\n",
       "  <tbody>\n",
       "    <tr>\n",
       "      <th>0</th>\n",
       "      <td>PAL0708</td>\n",
       "      <td>27</td>\n",
       "      <td>Gentoo</td>\n",
       "      <td>Biscoe</td>\n",
       "      <td>Adult, 1 Egg Stage</td>\n",
       "      <td>N46A1</td>\n",
       "      <td>Yes</td>\n",
       "      <td>11/29/07</td>\n",
       "      <td>44.5</td>\n",
       "      <td>14.3</td>\n",
       "      <td>216.0</td>\n",
       "      <td>4100.0</td>\n",
       "      <td>NaN</td>\n",
       "      <td>7.96621</td>\n",
       "      <td>-25.69327</td>\n",
       "    </tr>\n",
       "    <tr>\n",
       "      <th>1</th>\n",
       "      <td>PAL0708</td>\n",
       "      <td>22</td>\n",
       "      <td>Gentoo</td>\n",
       "      <td>Biscoe</td>\n",
       "      <td>Adult, 1 Egg Stage</td>\n",
       "      <td>N41A2</td>\n",
       "      <td>Yes</td>\n",
       "      <td>11/27/07</td>\n",
       "      <td>45.1</td>\n",
       "      <td>14.5</td>\n",
       "      <td>215.0</td>\n",
       "      <td>5000.0</td>\n",
       "      <td>FEMALE</td>\n",
       "      <td>7.63220</td>\n",
       "      <td>-25.46569</td>\n",
       "    </tr>\n",
       "    <tr>\n",
       "      <th>2</th>\n",
       "      <td>PAL0910</td>\n",
       "      <td>124</td>\n",
       "      <td>Adelie</td>\n",
       "      <td>Torgersen</td>\n",
       "      <td>Adult, 1 Egg Stage</td>\n",
       "      <td>N67A2</td>\n",
       "      <td>Yes</td>\n",
       "      <td>11/16/09</td>\n",
       "      <td>41.4</td>\n",
       "      <td>18.5</td>\n",
       "      <td>202.0</td>\n",
       "      <td>3875.0</td>\n",
       "      <td>MALE</td>\n",
       "      <td>9.59462</td>\n",
       "      <td>-25.42621</td>\n",
       "    </tr>\n",
       "    <tr>\n",
       "      <th>3</th>\n",
       "      <td>PAL0910</td>\n",
       "      <td>146</td>\n",
       "      <td>Adelie</td>\n",
       "      <td>Dream</td>\n",
       "      <td>Adult, 1 Egg Stage</td>\n",
       "      <td>N82A2</td>\n",
       "      <td>Yes</td>\n",
       "      <td>11/16/09</td>\n",
       "      <td>39.0</td>\n",
       "      <td>18.7</td>\n",
       "      <td>185.0</td>\n",
       "      <td>3650.0</td>\n",
       "      <td>MALE</td>\n",
       "      <td>9.22033</td>\n",
       "      <td>-26.03442</td>\n",
       "    </tr>\n",
       "    <tr>\n",
       "      <th>4</th>\n",
       "      <td>PAL0708</td>\n",
       "      <td>24</td>\n",
       "      <td>Chinstrap</td>\n",
       "      <td>Dream</td>\n",
       "      <td>Adult, 1 Egg Stage</td>\n",
       "      <td>N85A2</td>\n",
       "      <td>No</td>\n",
       "      <td>11/28/07</td>\n",
       "      <td>50.6</td>\n",
       "      <td>19.4</td>\n",
       "      <td>193.0</td>\n",
       "      <td>3800.0</td>\n",
       "      <td>MALE</td>\n",
       "      <td>9.28153</td>\n",
       "      <td>-24.97134</td>\n",
       "    </tr>\n",
       "  </tbody>\n",
       "</table>\n",
       "</div>"
      ],
      "text/plain": [
       "  studyName  Sample Number    Species     Island               Stage  \\\n",
       "0   PAL0708             27     Gentoo     Biscoe  Adult, 1 Egg Stage   \n",
       "1   PAL0708             22     Gentoo     Biscoe  Adult, 1 Egg Stage   \n",
       "2   PAL0910            124     Adelie  Torgersen  Adult, 1 Egg Stage   \n",
       "3   PAL0910            146     Adelie      Dream  Adult, 1 Egg Stage   \n",
       "4   PAL0708             24  Chinstrap      Dream  Adult, 1 Egg Stage   \n",
       "\n",
       "  Individual ID Clutch Completion  Date Egg  Culmen Length (mm)  \\\n",
       "0         N46A1               Yes  11/29/07                44.5   \n",
       "1         N41A2               Yes  11/27/07                45.1   \n",
       "2         N67A2               Yes  11/16/09                41.4   \n",
       "3         N82A2               Yes  11/16/09                39.0   \n",
       "4         N85A2                No  11/28/07                50.6   \n",
       "\n",
       "   Culmen Depth (mm)  Flipper Length (mm)  Body Mass (g)     Sex  \\\n",
       "0               14.3                216.0         4100.0     NaN   \n",
       "1               14.5                215.0         5000.0  FEMALE   \n",
       "2               18.5                202.0         3875.0    MALE   \n",
       "3               18.7                185.0         3650.0    MALE   \n",
       "4               19.4                193.0         3800.0    MALE   \n",
       "\n",
       "   Delta 15 N (o/oo)  Delta 13 C (o/oo)  \n",
       "0            7.96621          -25.69327  \n",
       "1            7.63220          -25.46569  \n",
       "2            9.59462          -25.42621  \n",
       "3            9.22033          -26.03442  \n",
       "4            9.28153          -24.97134  "
      ]
     },
     "execution_count": 8,
     "metadata": {},
     "output_type": "execute_result"
    }
   ],
   "source": [
    "train.head()"
   ]
  },
  {
   "attachments": {},
   "cell_type": "markdown",
   "metadata": {},
   "source": [
    "## Part 2: Visualization"
   ]
  },
  {
   "attachments": {},
   "cell_type": "markdown",
   "metadata": {},
   "source": [
    "##### In the next part of our blog, we will do some exploratory visualizations to better understand our dataset. Visualizations can help us find trends, understand patterns, and often times lead to interesting research questions."
   ]
  },
  {
   "attachments": {},
   "cell_type": "markdown",
   "metadata": {},
   "source": [
    "First, let's import the seaborn package which is used for visualization."
   ]
  },
  {
   "cell_type": "code",
   "execution_count": 9,
   "metadata": {},
   "outputs": [],
   "source": [
    "# Import seaborn lib for data viz\n",
    "\n",
    "import seaborn as sns"
   ]
  },
  {
   "attachments": {},
   "cell_type": "markdown",
   "metadata": {},
   "source": [
    "First, let's do a simple scatterplot which shows body mass vs flipper length. We will set the 'hue' parameter to \"Species\" to analyze the difference between penguin species."
   ]
  },
  {
   "cell_type": "code",
   "execution_count": 10,
   "metadata": {},
   "outputs": [
    {
     "data": {
      "text/plain": [
       "<Axes: xlabel='Body Mass (g)', ylabel='Flipper Length (mm)'>"
      ]
     },
     "execution_count": 10,
     "metadata": {},
     "output_type": "execute_result"
    },
    {
     "data": {
      "image/png": "[encoded data removed]",
      "text/plain": [
       "<Figure size 640x480 with 1 Axes>"
      ]
     },
     "metadata": {},
     "output_type": "display_data"
    }
   ],
   "source": [
    "# Visualize data\n",
    "\n",
    "sns.scatterplot(data=train, x=\"Body Mass (g)\", y=\"Flipper Length (mm)\", hue=\"Species\")"
   ]
  },
  {
   "attachments": {},
   "cell_type": "markdown",
   "metadata": {},
   "source": [
    "From this plot, we can see that Gentoo penguins are generally larger and heavier than the other two species. On the other hand, Adelie and Chinstrap penguins are typically around the same size as each other. Now, let's output the same graph, but instead of separating by species, let's separate by sex."
   ]
  },
  {
   "cell_type": "code",
   "execution_count": 11,
   "metadata": {},
   "outputs": [
    {
     "data": {
      "text/plain": [
       "<Axes: xlabel='Body Mass (g)', ylabel='Flipper Length (mm)'>"
      ]
     },
     "execution_count": 11,
     "metadata": {},
     "output_type": "execute_result"
    },
    {
     "data": {
      "image/png": "[encoded data removed]",
      "text/plain": [
       "<Figure size 640x480 with 1 Axes>"
      ]
     },
     "metadata": {},
     "output_type": "display_data"
    }
   ],
   "source": [
    "sns.scatterplot(data=train, x=\"Body Mass (g)\", y=\"Flipper Length (mm)\", hue=\"Sex\")"
   ]
  },
  {
   "attachments": {},
   "cell_type": "markdown",
   "metadata": {},
   "source": [
    "From this graph, we can sort of make out two clusters of points. This could represent baby vs full grown penguins. In each of the clusters, the male penguins are larger and heavier than the corresponding female counterpart. It is important to note that this graph does not give a full understanding. More specifically, we could try to adjust for age/species to get a better picture. However, for our purposes, this will be sufficient for now."
   ]
  },
  {
   "attachments": {},
   "cell_type": "markdown",
   "metadata": {},
   "source": [
    "#### Let's examine which species live on each island:"
   ]
  },
  {
   "attachments": {},
   "cell_type": "markdown",
   "metadata": {},
   "source": [
    "This visualization will give us a better geographical understanding of our penguins, which could affect some other attributes. For this plot, we will use the groupby() and size() methods to count an aggregate number of penguins on each island. Here is the result:"
   ]
  },
  {
   "cell_type": "code",
   "execution_count": 12,
   "metadata": {},
   "outputs": [
    {
     "data": {
      "text/html": [
       "<div>\n",
       "<style scoped>\n",
       "    .dataframe tbody tr th:only-of-type {\n",
       "        vertical-align: middle;\n",
       "    }\n",
       "\n",
       "    .dataframe tbody tr th {\n",
       "        vertical-align: top;\n",
       "    }\n",
       "\n",
       "    .dataframe thead th {\n",
       "        text-align: right;\n",
       "    }\n",
       "</style>\n",
       "<table border=\"1\" class=\"dataframe\">\n",
       "  <thead>\n",
       "    <tr style=\"text-align: right;\">\n",
       "      <th></th>\n",
       "      <th>Island</th>\n",
       "      <th>Species</th>\n",
       "      <th>count</th>\n",
       "    </tr>\n",
       "  </thead>\n",
       "  <tbody>\n",
       "    <tr>\n",
       "      <th>0</th>\n",
       "      <td>Biscoe</td>\n",
       "      <td>Adelie</td>\n",
       "      <td>35</td>\n",
       "    </tr>\n",
       "    <tr>\n",
       "      <th>1</th>\n",
       "      <td>Biscoe</td>\n",
       "      <td>Gentoo</td>\n",
       "      <td>101</td>\n",
       "    </tr>\n",
       "    <tr>\n",
       "      <th>2</th>\n",
       "      <td>Dream</td>\n",
       "      <td>Adelie</td>\n",
       "      <td>41</td>\n",
       "    </tr>\n",
       "    <tr>\n",
       "      <th>3</th>\n",
       "      <td>Dream</td>\n",
       "      <td>Chinstrap</td>\n",
       "      <td>56</td>\n",
       "    </tr>\n",
       "    <tr>\n",
       "      <th>4</th>\n",
       "      <td>Torgersen</td>\n",
       "      <td>Adelie</td>\n",
       "      <td>42</td>\n",
       "    </tr>\n",
       "  </tbody>\n",
       "</table>\n",
       "</div>"
      ],
      "text/plain": [
       "      Island    Species  count\n",
       "0     Biscoe     Adelie     35\n",
       "1     Biscoe     Gentoo    101\n",
       "2      Dream     Adelie     41\n",
       "3      Dream  Chinstrap     56\n",
       "4  Torgersen     Adelie     42"
      ]
     },
     "execution_count": 12,
     "metadata": {},
     "output_type": "execute_result"
    }
   ],
   "source": [
    "species_df = train.groupby(['Island', 'Species']).size().reset_index(name='count')\n",
    "species_df"
   ]
  },
  {
   "attachments": {},
   "cell_type": "markdown",
   "metadata": {},
   "source": [
    "##### Let's further visualize this relationship with a bar graph:"
   ]
  },
  {
   "cell_type": "code",
   "execution_count": 13,
   "metadata": {},
   "outputs": [
    {
     "data": {
      "text/plain": [
       "<seaborn.axisgrid.FacetGrid at 0x7fcc2a27dd30>"
      ]
     },
     "execution_count": 13,
     "metadata": {},
     "output_type": "execute_result"
    },
    {
     "data": {
      "image/png": "[encoded data removed]",
      "text/plain": [
       "<Figure size 617x500 with 1 Axes>"
      ]
     },
     "metadata": {},
     "output_type": "display_data"
    }
   ],
   "source": [
    "sns.catplot(x=\"Island\", y=\"count\", hue=\"Species\", data=species_df, kind=\"bar\")"
   ]
  },
  {
   "attachments": {},
   "cell_type": "markdown",
   "metadata": {},
   "source": [
    "From this, we can see that Adelie penguins are present on every island (and the only ones on Torgersen), while Gentoo are located on Biscoe, and Chinstrap are located on Dream Island."
   ]
  },
  {
   "attachments": {},
   "cell_type": "markdown",
   "metadata": {},
   "source": [
    "## Part 3: Modeling"
   ]
  },
  {
   "attachments": {},
   "cell_type": "markdown",
   "metadata": {},
   "source": [
    "##### Next, we will model our data. The first part of this process will be preparing it using various preprocessing techniques. Then, we will implement a feature selection process to narrow down which features will be beneficial for our model. Finally, we will train multiple classification models on our training data and test them on our test data. The goal of this section is to find a model and subset of our data which can 100% accurately predict the species of our test data."
   ]
  },
  {
   "attachments": {},
   "cell_type": "markdown",
   "metadata": {},
   "source": [
    "#### Data Preparation"
   ]
  },
  {
   "attachments": {},
   "cell_type": "markdown",
   "metadata": {},
   "source": [
    "First, we need to prepare our data to be modeled. This function performs the following tasks:  \n",
    "1. Take in a pandas df as the argument.  \n",
    "2. Drop some columns that are irrelevant to species prediction.  \n",
    "3. Drop all na values  \n",
    "4. Uses label encoding to change our species variable into quantitative values (0, 1, 2). Remember that models only  work well with quantitative data, so this step is necessary. This will be our y_train value.  \n",
    "5. Drop the target feature from our training dataset.  \n",
    "6. Make dummy variables for the remainder of the dataset (for qualitative variables).  \n",
    "7. This function will output our X_train and y_train values.  "
   ]
  },
  {
   "cell_type": "code",
   "execution_count": 14,
   "metadata": {},
   "outputs": [],
   "source": [
    "from sklearn.preprocessing import LabelEncoder\n",
    "le = LabelEncoder()\n",
    "le.fit(train[\"Species\"])\n",
    "\n",
    "def prepare_data(df):\n",
    "  df = df.drop([\"studyName\", \"Sample Number\", \"Individual ID\", \"Date Egg\"], axis = 1)\n",
    "  df = df[df[\"Sex\"] != \".\"]\n",
    "  df = df.dropna()\n",
    "  y = le.transform(df[\"Species\"])\n",
    "  df = df.drop([\"Species\"], axis = 1)\n",
    "  df = pd.get_dummies(df)\n",
    "  return df, y\n",
    "\n",
    "X_train, y_train = prepare_data(train)"
   ]
  },
  {
   "attachments": {},
   "cell_type": "markdown",
   "metadata": {},
   "source": [
    "##### Now, let's take a look at our updated dataset"
   ]
  },
  {
   "cell_type": "code",
   "execution_count": 15,
   "metadata": {},
   "outputs": [
    {
     "data": {
      "text/html": [
       "<div>\n",
       "<style scoped>\n",
       "    .dataframe tbody tr th:only-of-type {\n",
       "        vertical-align: middle;\n",
       "    }\n",
       "\n",
       "    .dataframe tbody tr th {\n",
       "        vertical-align: top;\n",
       "    }\n",
       "\n",
       "    .dataframe thead th {\n",
       "        text-align: right;\n",
       "    }\n",
       "</style>\n",
       "<table border=\"1\" class=\"dataframe\">\n",
       "  <thead>\n",
       "    <tr style=\"text-align: right;\">\n",
       "      <th></th>\n",
       "      <th>Culmen Length (mm)</th>\n",
       "      <th>Culmen Depth (mm)</th>\n",
       "      <th>Flipper Length (mm)</th>\n",
       "      <th>Body Mass (g)</th>\n",
       "      <th>Delta 15 N (o/oo)</th>\n",
       "      <th>Delta 13 C (o/oo)</th>\n",
       "      <th>Island_Biscoe</th>\n",
       "      <th>Island_Dream</th>\n",
       "      <th>Island_Torgersen</th>\n",
       "      <th>Stage_Adult, 1 Egg Stage</th>\n",
       "      <th>Clutch Completion_No</th>\n",
       "      <th>Clutch Completion_Yes</th>\n",
       "      <th>Sex_FEMALE</th>\n",
       "      <th>Sex_MALE</th>\n",
       "    </tr>\n",
       "  </thead>\n",
       "  <tbody>\n",
       "    <tr>\n",
       "      <th>1</th>\n",
       "      <td>45.1</td>\n",
       "      <td>14.5</td>\n",
       "      <td>215.0</td>\n",
       "      <td>5000.0</td>\n",
       "      <td>7.63220</td>\n",
       "      <td>-25.46569</td>\n",
       "      <td>1</td>\n",
       "      <td>0</td>\n",
       "      <td>0</td>\n",
       "      <td>1</td>\n",
       "      <td>0</td>\n",
       "      <td>1</td>\n",
       "      <td>1</td>\n",
       "      <td>0</td>\n",
       "    </tr>\n",
       "    <tr>\n",
       "      <th>2</th>\n",
       "      <td>41.4</td>\n",
       "      <td>18.5</td>\n",
       "      <td>202.0</td>\n",
       "      <td>3875.0</td>\n",
       "      <td>9.59462</td>\n",
       "      <td>-25.42621</td>\n",
       "      <td>0</td>\n",
       "      <td>0</td>\n",
       "      <td>1</td>\n",
       "      <td>1</td>\n",
       "      <td>0</td>\n",
       "      <td>1</td>\n",
       "      <td>0</td>\n",
       "      <td>1</td>\n",
       "    </tr>\n",
       "    <tr>\n",
       "      <th>3</th>\n",
       "      <td>39.0</td>\n",
       "      <td>18.7</td>\n",
       "      <td>185.0</td>\n",
       "      <td>3650.0</td>\n",
       "      <td>9.22033</td>\n",
       "      <td>-26.03442</td>\n",
       "      <td>0</td>\n",
       "      <td>1</td>\n",
       "      <td>0</td>\n",
       "      <td>1</td>\n",
       "      <td>0</td>\n",
       "      <td>1</td>\n",
       "      <td>0</td>\n",
       "      <td>1</td>\n",
       "    </tr>\n",
       "    <tr>\n",
       "      <th>4</th>\n",
       "      <td>50.6</td>\n",
       "      <td>19.4</td>\n",
       "      <td>193.0</td>\n",
       "      <td>3800.0</td>\n",
       "      <td>9.28153</td>\n",
       "      <td>-24.97134</td>\n",
       "      <td>0</td>\n",
       "      <td>1</td>\n",
       "      <td>0</td>\n",
       "      <td>1</td>\n",
       "      <td>1</td>\n",
       "      <td>0</td>\n",
       "      <td>0</td>\n",
       "      <td>1</td>\n",
       "    </tr>\n",
       "    <tr>\n",
       "      <th>5</th>\n",
       "      <td>33.1</td>\n",
       "      <td>16.1</td>\n",
       "      <td>178.0</td>\n",
       "      <td>2900.0</td>\n",
       "      <td>9.04218</td>\n",
       "      <td>-26.15775</td>\n",
       "      <td>0</td>\n",
       "      <td>1</td>\n",
       "      <td>0</td>\n",
       "      <td>1</td>\n",
       "      <td>0</td>\n",
       "      <td>1</td>\n",
       "      <td>1</td>\n",
       "      <td>0</td>\n",
       "    </tr>\n",
       "    <tr>\n",
       "      <th>...</th>\n",
       "      <td>...</td>\n",
       "      <td>...</td>\n",
       "      <td>...</td>\n",
       "      <td>...</td>\n",
       "      <td>...</td>\n",
       "      <td>...</td>\n",
       "      <td>...</td>\n",
       "      <td>...</td>\n",
       "      <td>...</td>\n",
       "      <td>...</td>\n",
       "      <td>...</td>\n",
       "      <td>...</td>\n",
       "      <td>...</td>\n",
       "      <td>...</td>\n",
       "    </tr>\n",
       "    <tr>\n",
       "      <th>269</th>\n",
       "      <td>41.1</td>\n",
       "      <td>17.5</td>\n",
       "      <td>190.0</td>\n",
       "      <td>3900.0</td>\n",
       "      <td>8.94365</td>\n",
       "      <td>-26.06943</td>\n",
       "      <td>0</td>\n",
       "      <td>1</td>\n",
       "      <td>0</td>\n",
       "      <td>1</td>\n",
       "      <td>0</td>\n",
       "      <td>1</td>\n",
       "      <td>0</td>\n",
       "      <td>1</td>\n",
       "    </tr>\n",
       "    <tr>\n",
       "      <th>270</th>\n",
       "      <td>45.4</td>\n",
       "      <td>14.6</td>\n",
       "      <td>211.0</td>\n",
       "      <td>4800.0</td>\n",
       "      <td>8.24515</td>\n",
       "      <td>-25.46782</td>\n",
       "      <td>1</td>\n",
       "      <td>0</td>\n",
       "      <td>0</td>\n",
       "      <td>1</td>\n",
       "      <td>0</td>\n",
       "      <td>1</td>\n",
       "      <td>1</td>\n",
       "      <td>0</td>\n",
       "    </tr>\n",
       "    <tr>\n",
       "      <th>271</th>\n",
       "      <td>36.2</td>\n",
       "      <td>17.2</td>\n",
       "      <td>187.0</td>\n",
       "      <td>3150.0</td>\n",
       "      <td>9.04296</td>\n",
       "      <td>-26.19444</td>\n",
       "      <td>0</td>\n",
       "      <td>0</td>\n",
       "      <td>1</td>\n",
       "      <td>1</td>\n",
       "      <td>1</td>\n",
       "      <td>0</td>\n",
       "      <td>1</td>\n",
       "      <td>0</td>\n",
       "    </tr>\n",
       "    <tr>\n",
       "      <th>272</th>\n",
       "      <td>50.0</td>\n",
       "      <td>15.9</td>\n",
       "      <td>224.0</td>\n",
       "      <td>5350.0</td>\n",
       "      <td>8.20042</td>\n",
       "      <td>-26.39677</td>\n",
       "      <td>1</td>\n",
       "      <td>0</td>\n",
       "      <td>0</td>\n",
       "      <td>1</td>\n",
       "      <td>0</td>\n",
       "      <td>1</td>\n",
       "      <td>0</td>\n",
       "      <td>1</td>\n",
       "    </tr>\n",
       "    <tr>\n",
       "      <th>273</th>\n",
       "      <td>48.2</td>\n",
       "      <td>14.3</td>\n",
       "      <td>210.0</td>\n",
       "      <td>4600.0</td>\n",
       "      <td>7.68870</td>\n",
       "      <td>-25.50811</td>\n",
       "      <td>1</td>\n",
       "      <td>0</td>\n",
       "      <td>0</td>\n",
       "      <td>1</td>\n",
       "      <td>0</td>\n",
       "      <td>1</td>\n",
       "      <td>1</td>\n",
       "      <td>0</td>\n",
       "    </tr>\n",
       "  </tbody>\n",
       "</table>\n",
       "<p>256 rows × 14 columns</p>\n",
       "</div>"
      ],
      "text/plain": [
       "     Culmen Length (mm)  Culmen Depth (mm)  Flipper Length (mm)  \\\n",
       "1                  45.1               14.5                215.0   \n",
       "2                  41.4               18.5                202.0   \n",
       "3                  39.0               18.7                185.0   \n",
       "4                  50.6               19.4                193.0   \n",
       "5                  33.1               16.1                178.0   \n",
       "..                  ...                ...                  ...   \n",
       "269                41.1               17.5                190.0   \n",
       "270                45.4               14.6                211.0   \n",
       "271                36.2               17.2                187.0   \n",
       "272                50.0               15.9                224.0   \n",
       "273                48.2               14.3                210.0   \n",
       "\n",
       "     Body Mass (g)  Delta 15 N (o/oo)  Delta 13 C (o/oo)  Island_Biscoe  \\\n",
       "1           5000.0            7.63220          -25.46569              1   \n",
       "2           3875.0            9.59462          -25.42621              0   \n",
       "3           3650.0            9.22033          -26.03442              0   \n",
       "4           3800.0            9.28153          -24.97134              0   \n",
       "5           2900.0            9.04218          -26.15775              0   \n",
       "..             ...                ...                ...            ...   \n",
       "269         3900.0            8.94365          -26.06943              0   \n",
       "270         4800.0            8.24515          -25.46782              1   \n",
       "271         3150.0            9.04296          -26.19444              0   \n",
       "272         5350.0            8.20042          -26.39677              1   \n",
       "273         4600.0            7.68870          -25.50811              1   \n",
       "\n",
       "     Island_Dream  Island_Torgersen  Stage_Adult, 1 Egg Stage  \\\n",
       "1               0                 0                         1   \n",
       "2               0                 1                         1   \n",
       "3               1                 0                         1   \n",
       "4               1                 0                         1   \n",
       "5               1                 0                         1   \n",
       "..            ...               ...                       ...   \n",
       "269             1                 0                         1   \n",
       "270             0                 0                         1   \n",
       "271             0                 1                         1   \n",
       "272             0                 0                         1   \n",
       "273             0                 0                         1   \n",
       "\n",
       "     Clutch Completion_No  Clutch Completion_Yes  Sex_FEMALE  Sex_MALE  \n",
       "1                       0                      1           1         0  \n",
       "2                       0                      1           0         1  \n",
       "3                       0                      1           0         1  \n",
       "4                       1                      0           0         1  \n",
       "5                       0                      1           1         0  \n",
       "..                    ...                    ...         ...       ...  \n",
       "269                     0                      1           0         1  \n",
       "270                     0                      1           1         0  \n",
       "271                     1                      0           1         0  \n",
       "272                     0                      1           0         1  \n",
       "273                     0                      1           1         0  \n",
       "\n",
       "[256 rows x 14 columns]"
      ]
     },
     "execution_count": 15,
     "metadata": {},
     "output_type": "execute_result"
    }
   ],
   "source": [
    "X_train"
   ]
  },
  {
   "attachments": {},
   "cell_type": "markdown",
   "metadata": {},
   "source": [
    "We have used one-hot encoding to transform our qualitative features into quantitative. This dataset is now ready for feature selection."
   ]
  },
  {
   "attachments": {},
   "cell_type": "markdown",
   "metadata": {},
   "source": [
    "### Feature Selection"
   ]
  },
  {
   "attachments": {},
   "cell_type": "markdown",
   "metadata": {},
   "source": [
    "In this part of our blog, we will perform feature selection to narrow down which features will be incorporated into our finalized model. There is a trade off with how many features to use. If you use too many, your model may be prone to being skewed, or it might be unable to find the underlying value due to excess noise. On the other hand, if you only use 1-2 features, your model may not have enough information to accurately predict. For our project, we will use 3 features: 2 quantitative and 1 qualitative. Because we used one-hot encoding, reminder that our finalized dataset will be 4 columns long, as the qualitative features are each 2 columns."
   ]
  },
  {
   "attachments": {},
   "cell_type": "markdown",
   "metadata": {},
   "source": [
    "To perform feature selection, we will rely on a brute force method of looping through all our remaining features and fitting models on each of sub-sets of data. We will fit four models: polynomial logistic regression, SVM, decision tree, and random forest. For each model, we will do the following: \n",
    "\n",
    "1. Loop through different hyperparameter values in order to optimize the algorithm. For each model, perform cross validation to analyze model performance.\n",
    "2. Create an instance of the model and enter the optimal parameters.\n",
    "3. Fit the model to the data.\n",
    "4. Get the score of the model\n",
    "\n",
    "We will store each score of the 4 models (LR, SVM, tree, forest) in an array and return the top model. Here is the implementation of finding the best model:"
   ]
  },
  {
   "cell_type": "code",
   "execution_count": 25,
   "metadata": {},
   "outputs": [],
   "source": [
    "from sklearn.linear_model import LogisticRegression\n",
    "from sklearn.model_selection import cross_val_score\n",
    "from sklearn import svm\n",
    "from sklearn import tree\n",
    "from sklearn.preprocessing import PolynomialFeatures\n",
    "from sklearn.pipeline import Pipeline\n",
    "from sklearn.ensemble import RandomForestClassifier\n",
    "\n",
    "# Helper function for LR\n",
    "def poly_LR(deg):\n",
    "  return Pipeline([(\"poly\", PolynomialFeatures(degree = deg)),\n",
    "                   (\"LR\", LogisticRegression(max_iter = 5000))])\n",
    "\n",
    "\n",
    "def getModel(X_new):\n",
    "    \n",
    "    # Keep track of model scores\n",
    "\n",
    "    model_scores = []\n",
    "    \n",
    "    # Logistic Regression\n",
    "\n",
    "    LR_cv = []\n",
    "\n",
    "    for deg in range(1, 4):\n",
    "        plr = poly_LR(deg = deg)\n",
    "        cv_scores_LR = cross_val_score(plr, X_new, y_train, cv=5)\n",
    "        LR_cv.append(np.mean(cv_scores_LR))\n",
    "    \n",
    "    optimal_degree = np.argmax(LR_cv) + 1\n",
    "    plr = poly_LR(deg=optimal_degree)\n",
    "    plr.fit(X_new, y_train)\n",
    "    LR_score = plr.score(X_new, y_train)\n",
    "\n",
    "    # Append to model scores\n",
    "    model_scores.append(LR_score)\n",
    "\n",
    "    # SVM\n",
    "\n",
    "    # Use Cross validation to get optimal gamma\n",
    "\n",
    "    gamma_vals = [.0001, .001, .01, .1, 1, 2, 5, 10, 50]\n",
    "    svm_cv = []\n",
    "\n",
    "    for gam in gamma_vals:\n",
    "\n",
    "        s = svm.SVC(gamma=gam)\n",
    "        cv_scores_SVM = cross_val_score(s, X_new, y_train, cv=5)\n",
    "        svm_cv.append(np.mean(cv_scores_SVM))\n",
    "\n",
    "    # Get top depth and fit on entire training\n",
    "    optimal_gamma = gamma_vals[np.argmax(svm_cv)]\n",
    "    s = svm.SVC(gamma=optimal_gamma)\n",
    "    s.fit(X_new, y_train)\n",
    "    svm_score = s.score(X_new, y_train)\n",
    "    \n",
    "    # Append to model scores\n",
    "    model_scores.append(svm_score)\n",
    "\n",
    "    # Decision tree\n",
    "\n",
    "    # Use cross validation to get max depth\n",
    "\n",
    "    tree_cv = []\n",
    "\n",
    "    for depth in range(1, 6):\n",
    "\n",
    "        t = tree.DecisionTreeClassifier(max_depth=depth)\n",
    "        cv_scores_tree = cross_val_score(t, X_new, y_train, cv=5)\n",
    "        tree_cv.append(np.mean(cv_scores_tree))\n",
    "\n",
    "    # Get top depth and fit on entire training\n",
    "    optimal_depth = np.argmax(tree_cv) + 1\n",
    "    t = tree.DecisionTreeClassifier(max_depth=optimal_depth)\n",
    "    t.fit(X_new, y_train)\n",
    "    tree_score = t.score(X_new, y_train)\n",
    "   \n",
    "    # Append to model scores\n",
    "    model_scores.append(tree_score)\n",
    "    \n",
    "\n",
    "    # Random forest\n",
    "\n",
    "    rf_cv = []\n",
    "\n",
    "    for depth in range(1, 6):\n",
    "\n",
    "        rf = RandomForestClassifier(n_estimators=100, max_depth=depth)\n",
    "        cv_scores_rf = cross_val_score(rf, X_new, y_train, cv=5)\n",
    "        rf_cv.append(np.mean(cv_scores_rf))\n",
    "\n",
    "    # Get top depth and fit on entire training\n",
    "    optimal_depth = np.argmax(rf_cv) + 1\n",
    "    rf = RandomForestClassifier(n_estimators=100, max_depth=optimal_depth)\n",
    "    rf.fit(X_new, y_train)\n",
    "    rf_score = rf.score(X_new, y_train)\n",
    "\n",
    "    # Append to model scores\n",
    "    model_scores.append(rf_score)\n",
    "\n",
    "    # Models to return:\n",
    "        # T\n",
    "        # S\n",
    "        # PLR\n",
    "        # Rf\n",
    "\n",
    "    # Return best model out of the four\n",
    "\n",
    "    if max(model_scores) == model_scores[0]:\n",
    "        return plr\n",
    "    elif max(model_scores) == model_scores[1]:\n",
    "        return s\n",
    "    elif max(model_scores) == model_scores[2]:\n",
    "        return t\n",
    "    else:\n",
    "        return rf"
   ]
  },
  {
   "attachments": {},
   "cell_type": "markdown",
   "metadata": {},
   "source": [
    "##### Preparing our test data"
   ]
  },
  {
   "attachments": {},
   "cell_type": "markdown",
   "metadata": {},
   "source": [
    "After finding the best model for a specific sub-set of our data, we will see how that model does on unseen test data. To prepare the test data, we will follow the same process as the training data. First, we will make a pandas dataframe using the given URL. Next, we will replace drop the same rows and change the name of our species. Finally, we will employ our pre-written \"prepare_data()\" function to get our X_test and y_test values."
   ]
  },
  {
   "cell_type": "code",
   "execution_count": 17,
   "metadata": {},
   "outputs": [
    {
     "data": {
      "text/html": [
       "<div>\n",
       "<style scoped>\n",
       "    .dataframe tbody tr th:only-of-type {\n",
       "        vertical-align: middle;\n",
       "    }\n",
       "\n",
       "    .dataframe tbody tr th {\n",
       "        vertical-align: top;\n",
       "    }\n",
       "\n",
       "    .dataframe thead th {\n",
       "        text-align: right;\n",
       "    }\n",
       "</style>\n",
       "<table border=\"1\" class=\"dataframe\">\n",
       "  <thead>\n",
       "    <tr style=\"text-align: right;\">\n",
       "      <th></th>\n",
       "      <th>Culmen Length (mm)</th>\n",
       "      <th>Culmen Depth (mm)</th>\n",
       "      <th>Flipper Length (mm)</th>\n",
       "      <th>Body Mass (g)</th>\n",
       "      <th>Delta 15 N (o/oo)</th>\n",
       "      <th>Delta 13 C (o/oo)</th>\n",
       "      <th>Island_Biscoe</th>\n",
       "      <th>Island_Dream</th>\n",
       "      <th>Island_Torgersen</th>\n",
       "      <th>Stage_Adult, 1 Egg Stage</th>\n",
       "      <th>Clutch Completion_No</th>\n",
       "      <th>Clutch Completion_Yes</th>\n",
       "      <th>Sex_FEMALE</th>\n",
       "      <th>Sex_MALE</th>\n",
       "    </tr>\n",
       "  </thead>\n",
       "  <tbody>\n",
       "    <tr>\n",
       "      <th>0</th>\n",
       "      <td>45.6</td>\n",
       "      <td>20.3</td>\n",
       "      <td>191.0</td>\n",
       "      <td>4600.0</td>\n",
       "      <td>8.65466</td>\n",
       "      <td>-26.32909</td>\n",
       "      <td>1</td>\n",
       "      <td>0</td>\n",
       "      <td>0</td>\n",
       "      <td>1</td>\n",
       "      <td>0</td>\n",
       "      <td>1</td>\n",
       "      <td>0</td>\n",
       "      <td>1</td>\n",
       "    </tr>\n",
       "    <tr>\n",
       "      <th>1</th>\n",
       "      <td>44.4</td>\n",
       "      <td>17.3</td>\n",
       "      <td>219.0</td>\n",
       "      <td>5250.0</td>\n",
       "      <td>8.13746</td>\n",
       "      <td>-26.79093</td>\n",
       "      <td>1</td>\n",
       "      <td>0</td>\n",
       "      <td>0</td>\n",
       "      <td>1</td>\n",
       "      <td>0</td>\n",
       "      <td>1</td>\n",
       "      <td>0</td>\n",
       "      <td>1</td>\n",
       "    </tr>\n",
       "    <tr>\n",
       "      <th>2</th>\n",
       "      <td>45.8</td>\n",
       "      <td>14.6</td>\n",
       "      <td>210.0</td>\n",
       "      <td>4200.0</td>\n",
       "      <td>7.79958</td>\n",
       "      <td>-25.62618</td>\n",
       "      <td>1</td>\n",
       "      <td>0</td>\n",
       "      <td>0</td>\n",
       "      <td>1</td>\n",
       "      <td>0</td>\n",
       "      <td>1</td>\n",
       "      <td>1</td>\n",
       "      <td>0</td>\n",
       "    </tr>\n",
       "    <tr>\n",
       "      <th>3</th>\n",
       "      <td>47.5</td>\n",
       "      <td>16.8</td>\n",
       "      <td>199.0</td>\n",
       "      <td>3900.0</td>\n",
       "      <td>9.07825</td>\n",
       "      <td>-25.14550</td>\n",
       "      <td>0</td>\n",
       "      <td>1</td>\n",
       "      <td>0</td>\n",
       "      <td>1</td>\n",
       "      <td>0</td>\n",
       "      <td>1</td>\n",
       "      <td>1</td>\n",
       "      <td>0</td>\n",
       "    </tr>\n",
       "    <tr>\n",
       "      <th>4</th>\n",
       "      <td>45.0</td>\n",
       "      <td>15.4</td>\n",
       "      <td>220.0</td>\n",
       "      <td>5050.0</td>\n",
       "      <td>8.63488</td>\n",
       "      <td>-26.75621</td>\n",
       "      <td>1</td>\n",
       "      <td>0</td>\n",
       "      <td>0</td>\n",
       "      <td>1</td>\n",
       "      <td>0</td>\n",
       "      <td>1</td>\n",
       "      <td>0</td>\n",
       "      <td>1</td>\n",
       "    </tr>\n",
       "  </tbody>\n",
       "</table>\n",
       "</div>"
      ],
      "text/plain": [
       "   Culmen Length (mm)  Culmen Depth (mm)  Flipper Length (mm)  Body Mass (g)  \\\n",
       "0                45.6               20.3                191.0         4600.0   \n",
       "1                44.4               17.3                219.0         5250.0   \n",
       "2                45.8               14.6                210.0         4200.0   \n",
       "3                47.5               16.8                199.0         3900.0   \n",
       "4                45.0               15.4                220.0         5050.0   \n",
       "\n",
       "   Delta 15 N (o/oo)  Delta 13 C (o/oo)  Island_Biscoe  Island_Dream  \\\n",
       "0            8.65466          -26.32909              1             0   \n",
       "1            8.13746          -26.79093              1             0   \n",
       "2            7.79958          -25.62618              1             0   \n",
       "3            9.07825          -25.14550              0             1   \n",
       "4            8.63488          -26.75621              1             0   \n",
       "\n",
       "   Island_Torgersen  Stage_Adult, 1 Egg Stage  Clutch Completion_No  \\\n",
       "0                 0                         1                     0   \n",
       "1                 0                         1                     0   \n",
       "2                 0                         1                     0   \n",
       "3                 0                         1                     0   \n",
       "4                 0                         1                     0   \n",
       "\n",
       "   Clutch Completion_Yes  Sex_FEMALE  Sex_MALE  \n",
       "0                      1           0         1  \n",
       "1                      1           0         1  \n",
       "2                      1           1         0  \n",
       "3                      1           1         0  \n",
       "4                      1           0         1  "
      ]
     },
     "execution_count": 17,
     "metadata": {},
     "output_type": "execute_result"
    }
   ],
   "source": [
    "test_url = \"https://raw.githubusercontent.com/middlebury-csci-0451/CSCI-0451/main/data/palmer-penguins/test.csv\"\n",
    "test = pd.read_csv(test_url)\n",
    "\n",
    "test = test.replace({\"Gentoo penguin (Pygoscelis papua)\":\"Gentoo\", \n",
    "                       \"Adelie Penguin (Pygoscelis adeliae)\":\"Adelie\", \n",
    "                       \"Chinstrap penguin (Pygoscelis antarctica)\": \"Chinstrap\"})\n",
    "\n",
    "test = test.drop(\"Comments\", axis = 1)\n",
    "test = test.drop(\"Region\", axis = 1)\n",
    "\n",
    "\n",
    "X_test, y_test = prepare_data(test)\n",
    "X_test.head()"
   ]
  },
  {
   "attachments": {},
   "cell_type": "markdown",
   "metadata": {},
   "source": [
    "#### Check all features"
   ]
  },
  {
   "attachments": {},
   "cell_type": "markdown",
   "metadata": {},
   "source": [
    "Here is the brute force implementation of our feature selection. In this function, which I have named \"go,\" we will perform the following tasks:  \n",
    "\n",
    "1. Keep list of all quant and qual columns to check\n",
    "2. for each qual column:\n",
    "    1. Loop through every possible pair of quant columns\n",
    "    2. With these three columns, which make up our sub-set:\n",
    "        1. Make new dataset with just these columns\n",
    "        2. Get the best model using the above implementation\n",
    "        3. calculate test score of model on test data\n",
    "        4. If we hit 100% accuracy, we are done! Return the model, X, and cols"
   ]
  },
  {
   "cell_type": "code",
   "execution_count": 22,
   "metadata": {},
   "outputs": [
    {
     "name": "stderr",
     "output_type": "stream",
     "text": [
      "/Users/johnnykantaros/opt/anaconda3/envs/ml-0451/lib/python3.9/site-packages/sklearn/linear_model/_logistic.py:458: ConvergenceWarning: lbfgs failed to converge (status=1):\n",
      "STOP: TOTAL NO. of ITERATIONS REACHED LIMIT.\n",
      "\n",
      "Increase the number of iterations (max_iter) or scale the data as shown in:\n",
      "    https://scikit-learn.org/stable/modules/preprocessing.html\n",
      "Please also refer to the documentation for alternative solver options:\n",
      "    https://scikit-learn.org/stable/modules/linear_model.html#logistic-regression\n",
      "  n_iter_i = _check_optimize_result(\n",
      "/Users/johnnykantaros/opt/anaconda3/envs/ml-0451/lib/python3.9/site-packages/sklearn/linear_model/_logistic.py:458: ConvergenceWarning: lbfgs failed to converge (status=1):\n",
      "STOP: TOTAL NO. of ITERATIONS REACHED LIMIT.\n",
      "\n",
      "Increase the number of iterations (max_iter) or scale the data as shown in:\n",
      "    https://scikit-learn.org/stable/modules/preprocessing.html\n",
      "Please also refer to the documentation for alternative solver options:\n",
      "    https://scikit-learn.org/stable/modules/linear_model.html#logistic-regression\n",
      "  n_iter_i = _check_optimize_result(\n",
      "/Users/johnnykantaros/opt/anaconda3/envs/ml-0451/lib/python3.9/site-packages/sklearn/linear_model/_logistic.py:458: ConvergenceWarning: lbfgs failed to converge (status=1):\n",
      "STOP: TOTAL NO. of ITERATIONS REACHED LIMIT.\n",
      "\n",
      "Increase the number of iterations (max_iter) or scale the data as shown in:\n",
      "    https://scikit-learn.org/stable/modules/preprocessing.html\n",
      "Please also refer to the documentation for alternative solver options:\n",
      "    https://scikit-learn.org/stable/modules/linear_model.html#logistic-regression\n",
      "  n_iter_i = _check_optimize_result(\n"
     ]
    },
    {
     "name": "stdout",
     "output_type": "stream",
     "text": [
      "100% testing accuracy\n",
      "Features: ('Culmen Length (mm)', 'Flipper Length (mm)')Sex\n",
      "RandomForestClassifier(max_depth=5)\n"
     ]
    }
   ],
   "source": [
    "from itertools import combinations\n",
    "\n",
    "\n",
    "def go():\n",
    "  all_qual_cols = [\"Clutch Completion\", \"Sex\", \"Island\", \"Clutch Completion\"]\n",
    "  all_quant_cols = ['Culmen Length (mm)', 'Culmen Depth (mm)', 'Flipper Length (mm)', 'Body Mass (g)', 'Delta 15 N (o/oo)', 'Delta 13 C (o/oo)']\n",
    "\n",
    "  for qual in all_qual_cols: \n",
    "    qual_cols = [col for col in X_train.columns if qual in col ]\n",
    "    for pair in combinations(all_quant_cols, 2):\n",
    "      cols = list(pair) + qual_cols\n",
    "      # Get sub dataset\n",
    "      X_new = X_train.loc[:, cols]\n",
    "      # For each model, \n",
    "      # Fit model on X_new\n",
    "      model = getModel(X_new)\n",
    "\n",
    "      # Now test model on test data\n",
    "\n",
    "      test_score = model.score(X_test.loc[:, cols], y_test)\n",
    "      \n",
    "      if test_score == 1.0:\n",
    "        print(\"100% testing accuracy\\nFeatures: \" + str(pair) + str(qual))\n",
    "        print(model)\n",
    "        return model, X_new, cols\n",
    "      \n",
    "model, X, cols = go()\n",
    "    "
   ]
  },
  {
   "attachments": {},
   "cell_type": "markdown",
   "metadata": {},
   "source": [
    "Successful! After running our go() function, it eventually returns a subset and model with 100% testing accuracy. Here is the result:"
   ]
  },
  {
   "attachments": {},
   "cell_type": "markdown",
   "metadata": {},
   "source": [
    "##### Model"
   ]
  },
  {
   "cell_type": "code",
   "execution_count": 23,
   "metadata": {},
   "outputs": [
    {
     "data": {
      "text/html": [
       "<style>#sk-container-id-1 {color: black;background-color: white;}#sk-container-id-1 pre{padding: 0;}#sk-container-id-1 div.sk-toggleable {background-color: white;}#sk-container-id-1 label.sk-toggleable__label {cursor: pointer;display: block;width: 100%;margin-bottom: 0;padding: 0.3em;box-sizing: border-box;text-align: center;}#sk-container-id-1 label.sk-toggleable__label-arrow:before {content: \"▸\";float: left;margin-right: 0.25em;color: #696969;}#sk-container-id-1 label.sk-toggleable__label-arrow:hover:before {color: black;}#sk-container-id-1 div.sk-estimator:hover label.sk-toggleable__label-arrow:before {color: black;}#sk-container-id-1 div.sk-toggleable__content {max-height: 0;max-width: 0;overflow: hidden;text-align: left;background-color: #f0f8ff;}#sk-container-id-1 div.sk-toggleable__content pre {margin: 0.2em;color: black;border-radius: 0.25em;background-color: #f0f8ff;}#sk-container-id-1 input.sk-toggleable__control:checked~div.sk-toggleable__content {max-height: 200px;max-width: 100%;overflow: auto;}#sk-container-id-1 input.sk-toggleable__control:checked~label.sk-toggleable__label-arrow:before {content: \"▾\";}#sk-container-id-1 div.sk-estimator input.sk-toggleable__control:checked~label.sk-toggleable__label {background-color: #d4ebff;}#sk-container-id-1 div.sk-label input.sk-toggleable__control:checked~label.sk-toggleable__label {background-color: #d4ebff;}#sk-container-id-1 input.sk-hidden--visually {border: 0;clip: rect(1px 1px 1px 1px);clip: rect(1px, 1px, 1px, 1px);height: 1px;margin: -1px;overflow: hidden;padding: 0;position: absolute;width: 1px;}#sk-container-id-1 div.sk-estimator {font-family: monospace;background-color: #f0f8ff;border: 1px dotted black;border-radius: 0.25em;box-sizing: border-box;margin-bottom: 0.5em;}#sk-container-id-1 div.sk-estimator:hover {background-color: #d4ebff;}#sk-container-id-1 div.sk-parallel-item::after {content: \"\";width: 100%;border-bottom: 1px solid gray;flex-grow: 1;}#sk-container-id-1 div.sk-label:hover label.sk-toggleable__label {background-color: #d4ebff;}#sk-container-id-1 div.sk-serial::before {content: \"\";position: absolute;border-left: 1px solid gray;box-sizing: border-box;top: 0;bottom: 0;left: 50%;z-index: 0;}#sk-container-id-1 div.sk-serial {display: flex;flex-direction: column;align-items: center;background-color: white;padding-right: 0.2em;padding-left: 0.2em;position: relative;}#sk-container-id-1 div.sk-item {position: relative;z-index: 1;}#sk-container-id-1 div.sk-parallel {display: flex;align-items: stretch;justify-content: center;background-color: white;position: relative;}#sk-container-id-1 div.sk-item::before, #sk-container-id-1 div.sk-parallel-item::before {content: \"\";position: absolute;border-left: 1px solid gray;box-sizing: border-box;top: 0;bottom: 0;left: 50%;z-index: -1;}#sk-container-id-1 div.sk-parallel-item {display: flex;flex-direction: column;z-index: 1;position: relative;background-color: white;}#sk-container-id-1 div.sk-parallel-item:first-child::after {align-self: flex-end;width: 50%;}#sk-container-id-1 div.sk-parallel-item:last-child::after {align-self: flex-start;width: 50%;}#sk-container-id-1 div.sk-parallel-item:only-child::after {width: 0;}#sk-container-id-1 div.sk-dashed-wrapped {border: 1px dashed gray;margin: 0 0.4em 0.5em 0.4em;box-sizing: border-box;padding-bottom: 0.4em;background-color: white;}#sk-container-id-1 div.sk-label label {font-family: monospace;font-weight: bold;display: inline-block;line-height: 1.2em;}#sk-container-id-1 div.sk-label-container {text-align: center;}#sk-container-id-1 div.sk-container {/* jupyter's `normalize.less` sets `[hidden] { display: none; }` but bootstrap.min.css set `[hidden] { display: none !important; }` so we also need the `!important` here to be able to override the default hidden behavior on the sphinx rendered scikit-learn.org. See: https://github.com/scikit-learn/scikit-learn/issues/21755 */display: inline-block !important;position: relative;}#sk-container-id-1 div.sk-text-repr-fallback {display: none;}</style><div id=\"sk-container-id-1\" class=\"sk-top-container\"><div class=\"sk-text-repr-fallback\"><pre>RandomForestClassifier(max_depth=5)</pre><b>In a Jupyter environment, please rerun this cell to show the HTML representation or trust the notebook. <br />On GitHub, the HTML representation is unable to render, please try loading this page with nbviewer.org.</b></div><div class=\"sk-container\" hidden><div class=\"sk-item\"><div class=\"sk-estimator sk-toggleable\"><input class=\"sk-toggleable__control sk-hidden--visually\" id=\"sk-estimator-id-1\" type=\"checkbox\" checked><label for=\"sk-estimator-id-1\" class=\"sk-toggleable__label sk-toggleable__label-arrow\">RandomForestClassifier</label><div class=\"sk-toggleable__content\"><pre>RandomForestClassifier(max_depth=5)</pre></div></div></div></div></div>"
      ],
      "text/plain": [
       "RandomForestClassifier(max_depth=5)"
      ]
     },
     "execution_count": 23,
     "metadata": {},
     "output_type": "execute_result"
    }
   ],
   "source": [
    "model"
   ]
  },
  {
   "attachments": {},
   "cell_type": "markdown",
   "metadata": {},
   "source": [
    "Our optimal model is a random forest classifier with a maximum depth of 5."
   ]
  },
  {
   "attachments": {},
   "cell_type": "markdown",
   "metadata": {},
   "source": [
    "##### Features"
   ]
  },
  {
   "cell_type": "code",
   "execution_count": 24,
   "metadata": {},
   "outputs": [
    {
     "data": {
      "text/plain": [
       "['Culmen Length (mm)', 'Flipper Length (mm)', 'Sex_FEMALE', 'Sex_MALE']"
      ]
     },
     "execution_count": 24,
     "metadata": {},
     "output_type": "execute_result"
    }
   ],
   "source": [
    "cols"
   ]
  },
  {
   "attachments": {},
   "cell_type": "markdown",
   "metadata": {},
   "source": [
    "Our feature selection process left us 3 features: 'Culmen Length (mm)', 'Flipper Length (mm)', and 'Sex'"
   ]
  },
  {
   "attachments": {},
   "cell_type": "markdown",
   "metadata": {},
   "source": [
    "### Plotting Decision Regions"
   ]
  },
  {
   "attachments": {},
   "cell_type": "markdown",
   "metadata": {},
   "source": [
    "Finally, let's visualize our decision regions:"
   ]
  },
  {
   "cell_type": "code",
   "execution_count": 19,
   "metadata": {},
   "outputs": [],
   "source": [
    "from matplotlib import pyplot as plt\n",
    "import numpy as np"
   ]
  },
  {
   "cell_type": "code",
   "execution_count": 20,
   "metadata": {},
   "outputs": [],
   "source": [
    "from matplotlib.patches import Patch\n",
    "\n",
    "def plot_regions(model, X, y):\n",
    "    \n",
    "    x0 = X[X.columns[0]]\n",
    "    x1 = X[X.columns[1]]\n",
    "    qual_features = X.columns[2:]\n",
    "    \n",
    "    fig, axarr = plt.subplots(1, len(qual_features), figsize = (7, 3))\n",
    "\n",
    "    # create a grid\n",
    "    grid_x = np.linspace(x0.min(),x0.max(),501)\n",
    "    grid_y = np.linspace(x1.min(),x1.max(),501)\n",
    "    xx, yy = np.meshgrid(grid_x, grid_y)\n",
    "    \n",
    "    XX = xx.ravel()\n",
    "    YY = yy.ravel()\n",
    "\n",
    "    for i in range(len(qual_features)):\n",
    "      XY = pd.DataFrame({\n",
    "          X.columns[0] : XX,\n",
    "          X.columns[1] : YY\n",
    "      })\n",
    "\n",
    "      for j in qual_features:\n",
    "        XY[j] = 0\n",
    "\n",
    "      XY[qual_features[i]] = 1\n",
    "\n",
    "      p = model.predict(XY)\n",
    "      p = p.reshape(xx.shape)\n",
    "      \n",
    "      \n",
    "      # use contour plot to visualize the predictions\n",
    "      axarr[i].contourf(xx, yy, p, cmap = \"jet\", alpha = 0.2, vmin = 0, vmax = 2)\n",
    "      \n",
    "      ix = X[qual_features[i]] == 1\n",
    "      # plot the data\n",
    "      axarr[i].scatter(x0[ix], x1[ix], c = y[ix], cmap = \"jet\", vmin = 0, vmax = 2)\n",
    "      \n",
    "      axarr[i].set(xlabel = X.columns[0], \n",
    "            ylabel  = X.columns[1])\n",
    "      \n",
    "      patches = []\n",
    "      for color, spec in zip([\"red\", \"green\", \"blue\"], [\"Adelie\", \"Chinstrap\", \"Gentoo\"]):\n",
    "        patches.append(Patch(color = color, label = spec))\n",
    "\n",
    "      plt.legend(title = \"Species\", handles = patches, loc = \"best\")\n",
    "      \n",
    "      plt.tight_layout()"
   ]
  },
  {
   "cell_type": "code",
   "execution_count": 21,
   "metadata": {},
   "outputs": [
    {
     "data": {
      "image/png": "[encoded data removed]",
      "text/plain": [
       "<Figure size 700x300 with 2 Axes>"
      ]
     },
     "metadata": {},
     "output_type": "display_data"
    }
   ],
   "source": [
    "plot_regions(model, X, y)"
   ]
  },
  {
   "attachments": {},
   "cell_type": "markdown",
   "metadata": {},
   "source": [
    "## Hope you enjoyed this blog!"
   ]
  }
 ],
 "metadata": {
  "kernelspec": {
   "display_name": "ml-0451",
   "language": "python",
   "name": "python3"
  },
  "language_info": {
   "codemirror_mode": {
    "name": "ipython",
    "version": 3
   },
   "file_extension": ".py",
   "mimetype": "text/x-python",
   "name": "python",
   "nbconvert_exporter": "python",
   "pygments_lexer": "ipython3",
   "version": "3.9.16"
  },
  "orig_nbformat": 4
 },
 "nbformat": 4,
 "nbformat_minor": 2
}
