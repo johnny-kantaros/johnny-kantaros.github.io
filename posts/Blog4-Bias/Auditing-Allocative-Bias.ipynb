{
 "cells": [
  {
   "cell_type": "raw",
   "metadata": {},
   "source": [
    "---\n",
    "title: Auditing Allocative Bias\n",
    "author: Johnny Kantaros\n",
    "date: '2023-04-07'\n",
    "image: \"bias.png\"\n",
    "description: \"Analyzing bias within macro data.\"\n",
    "format: html\n",
    "---"
   ]
  },
  {
   "attachments": {},
   "cell_type": "markdown",
   "metadata": {},
   "source": [
    "# Auditing Allocative Bias"
   ]
  },
  {
   "attachments": {},
   "cell_type": "markdown",
   "metadata": {},
   "source": [
    "### Introduction  \n",
    "\n",
    "In this blog post, I will create a machine learning model that predicts employment status based on census data. The goal of this project is to analyze bias with respect to race within the data. To reach this conclusion, I will perform a series of steps. First, I will load my dataset and select a certain US state to analyze. Next, I will wrangle my data and perform pre-processing steps. Then, I will fit a classification model and obtain prediction values. Finally, I will implement a fairness audit to assess the bias (or lack thereof) within my model."
   ]
  },
  {
   "attachments": {},
   "cell_type": "markdown",
   "metadata": {},
   "source": [
    "### Step 1: Get data"
   ]
  },
  {
   "attachments": {},
   "cell_type": "markdown",
   "metadata": {},
   "source": [
    "The first step is to import my data. For this project, we will be using data from the American Community Survey’s Public Use Microdata Sample. I have chosen to focus on Massachusetts, as this is my home state."
   ]
  },
  {
   "cell_type": "code",
   "execution_count": 1,
   "metadata": {},
   "outputs": [
    {
     "data": {
      "text/html": [
       "<div>\n",
       "<style scoped>\n",
       "    .dataframe tbody tr th:only-of-type {\n",
       "        vertical-align: middle;\n",
       "    }\n",
       "\n",
       "    .dataframe tbody tr th {\n",
       "        vertical-align: top;\n",
       "    }\n",
       "\n",
       "    .dataframe thead th {\n",
       "        text-align: right;\n",
       "    }\n",
       "</style>\n",
       "<table border=\"1\" class=\"dataframe\">\n",
       "  <thead>\n",
       "    <tr style=\"text-align: right;\">\n",
       "      <th></th>\n",
       "      <th>RT</th>\n",
       "      <th>SERIALNO</th>\n",
       "      <th>DIVISION</th>\n",
       "      <th>SPORDER</th>\n",
       "      <th>PUMA</th>\n",
       "      <th>REGION</th>\n",
       "      <th>ST</th>\n",
       "      <th>ADJINC</th>\n",
       "      <th>PWGTP</th>\n",
       "      <th>AGEP</th>\n",
       "      <th>...</th>\n",
       "      <th>PWGTP71</th>\n",
       "      <th>PWGTP72</th>\n",
       "      <th>PWGTP73</th>\n",
       "      <th>PWGTP74</th>\n",
       "      <th>PWGTP75</th>\n",
       "      <th>PWGTP76</th>\n",
       "      <th>PWGTP77</th>\n",
       "      <th>PWGTP78</th>\n",
       "      <th>PWGTP79</th>\n",
       "      <th>PWGTP80</th>\n",
       "    </tr>\n",
       "  </thead>\n",
       "  <tbody>\n",
       "    <tr>\n",
       "      <th>0</th>\n",
       "      <td>P</td>\n",
       "      <td>2018GQ0000024</td>\n",
       "      <td>1</td>\n",
       "      <td>1</td>\n",
       "      <td>3301</td>\n",
       "      <td>1</td>\n",
       "      <td>25</td>\n",
       "      <td>1013097</td>\n",
       "      <td>47</td>\n",
       "      <td>77</td>\n",
       "      <td>...</td>\n",
       "      <td>47</td>\n",
       "      <td>46</td>\n",
       "      <td>4</td>\n",
       "      <td>92</td>\n",
       "      <td>46</td>\n",
       "      <td>50</td>\n",
       "      <td>49</td>\n",
       "      <td>4</td>\n",
       "      <td>89</td>\n",
       "      <td>4</td>\n",
       "    </tr>\n",
       "    <tr>\n",
       "      <th>1</th>\n",
       "      <td>P</td>\n",
       "      <td>2018GQ0000063</td>\n",
       "      <td>1</td>\n",
       "      <td>1</td>\n",
       "      <td>1600</td>\n",
       "      <td>1</td>\n",
       "      <td>25</td>\n",
       "      <td>1013097</td>\n",
       "      <td>16</td>\n",
       "      <td>18</td>\n",
       "      <td>...</td>\n",
       "      <td>33</td>\n",
       "      <td>30</td>\n",
       "      <td>16</td>\n",
       "      <td>16</td>\n",
       "      <td>18</td>\n",
       "      <td>2</td>\n",
       "      <td>18</td>\n",
       "      <td>31</td>\n",
       "      <td>16</td>\n",
       "      <td>15</td>\n",
       "    </tr>\n",
       "    <tr>\n",
       "      <th>2</th>\n",
       "      <td>P</td>\n",
       "      <td>2018GQ0000075</td>\n",
       "      <td>1</td>\n",
       "      <td>1</td>\n",
       "      <td>703</td>\n",
       "      <td>1</td>\n",
       "      <td>25</td>\n",
       "      <td>1013097</td>\n",
       "      <td>60</td>\n",
       "      <td>28</td>\n",
       "      <td>...</td>\n",
       "      <td>110</td>\n",
       "      <td>116</td>\n",
       "      <td>57</td>\n",
       "      <td>8</td>\n",
       "      <td>60</td>\n",
       "      <td>107</td>\n",
       "      <td>60</td>\n",
       "      <td>62</td>\n",
       "      <td>109</td>\n",
       "      <td>110</td>\n",
       "    </tr>\n",
       "    <tr>\n",
       "      <th>3</th>\n",
       "      <td>P</td>\n",
       "      <td>2018GQ0000088</td>\n",
       "      <td>1</td>\n",
       "      <td>1</td>\n",
       "      <td>3301</td>\n",
       "      <td>1</td>\n",
       "      <td>25</td>\n",
       "      <td>1013097</td>\n",
       "      <td>72</td>\n",
       "      <td>22</td>\n",
       "      <td>...</td>\n",
       "      <td>71</td>\n",
       "      <td>74</td>\n",
       "      <td>10</td>\n",
       "      <td>10</td>\n",
       "      <td>129</td>\n",
       "      <td>128</td>\n",
       "      <td>10</td>\n",
       "      <td>73</td>\n",
       "      <td>128</td>\n",
       "      <td>70</td>\n",
       "    </tr>\n",
       "    <tr>\n",
       "      <th>4</th>\n",
       "      <td>P</td>\n",
       "      <td>2018GQ0000098</td>\n",
       "      <td>1</td>\n",
       "      <td>1</td>\n",
       "      <td>701</td>\n",
       "      <td>1</td>\n",
       "      <td>25</td>\n",
       "      <td>1013097</td>\n",
       "      <td>21</td>\n",
       "      <td>50</td>\n",
       "      <td>...</td>\n",
       "      <td>37</td>\n",
       "      <td>18</td>\n",
       "      <td>24</td>\n",
       "      <td>0</td>\n",
       "      <td>39</td>\n",
       "      <td>19</td>\n",
       "      <td>20</td>\n",
       "      <td>39</td>\n",
       "      <td>19</td>\n",
       "      <td>36</td>\n",
       "    </tr>\n",
       "  </tbody>\n",
       "</table>\n",
       "<p>5 rows × 286 columns</p>\n",
       "</div>"
      ],
      "text/plain": [
       "  RT       SERIALNO  DIVISION  SPORDER  PUMA  REGION  ST   ADJINC  PWGTP  \\\n",
       "0  P  2018GQ0000024         1        1  3301       1  25  1013097     47   \n",
       "1  P  2018GQ0000063         1        1  1600       1  25  1013097     16   \n",
       "2  P  2018GQ0000075         1        1   703       1  25  1013097     60   \n",
       "3  P  2018GQ0000088         1        1  3301       1  25  1013097     72   \n",
       "4  P  2018GQ0000098         1        1   701       1  25  1013097     21   \n",
       "\n",
       "   AGEP  ...  PWGTP71  PWGTP72  PWGTP73  PWGTP74  PWGTP75  PWGTP76  PWGTP77  \\\n",
       "0    77  ...       47       46        4       92       46       50       49   \n",
       "1    18  ...       33       30       16       16       18        2       18   \n",
       "2    28  ...      110      116       57        8       60      107       60   \n",
       "3    22  ...       71       74       10       10      129      128       10   \n",
       "4    50  ...       37       18       24        0       39       19       20   \n",
       "\n",
       "   PWGTP78  PWGTP79  PWGTP80  \n",
       "0        4       89        4  \n",
       "1       31       16       15  \n",
       "2       62      109      110  \n",
       "3       73      128       70  \n",
       "4       39       19       36  \n",
       "\n",
       "[5 rows x 286 columns]"
      ]
     },
     "execution_count": 1,
     "metadata": {},
     "output_type": "execute_result"
    }
   ],
   "source": [
    "from folktables import ACSDataSource, ACSEmployment, BasicProblem, adult_filter\n",
    "import numpy as np\n",
    "\n",
    "STATE = \"MA\"\n",
    "\n",
    "data_source = ACSDataSource(survey_year='2018', \n",
    "                            horizon='1-Year', \n",
    "                            survey='person')\n",
    "\n",
    "acs_data = data_source.get_data(states=[STATE], download=True)\n",
    "\n",
    "acs_data.head()"
   ]
  },
  {
   "attachments": {},
   "cell_type": "markdown",
   "metadata": {},
   "source": [
    "As you can see from the data, there are an abundance of features to work with. As we know, machine learning models can be prone to overfitting when given too many feature variables. As a result, let's focus on a subset of variables:"
   ]
  },
  {
   "attachments": {},
   "cell_type": "markdown",
   "metadata": {},
   "source": [
    "### Step 2: Subset the features"
   ]
  },
  {
   "cell_type": "code",
   "execution_count": 2,
   "metadata": {},
   "outputs": [
    {
     "data": {
      "text/html": [
       "<div>\n",
       "<style scoped>\n",
       "    .dataframe tbody tr th:only-of-type {\n",
       "        vertical-align: middle;\n",
       "    }\n",
       "\n",
       "    .dataframe tbody tr th {\n",
       "        vertical-align: top;\n",
       "    }\n",
       "\n",
       "    .dataframe thead th {\n",
       "        text-align: right;\n",
       "    }\n",
       "</style>\n",
       "<table border=\"1\" class=\"dataframe\">\n",
       "  <thead>\n",
       "    <tr style=\"text-align: right;\">\n",
       "      <th></th>\n",
       "      <th>AGEP</th>\n",
       "      <th>SCHL</th>\n",
       "      <th>MAR</th>\n",
       "      <th>RELP</th>\n",
       "      <th>DIS</th>\n",
       "      <th>ESP</th>\n",
       "      <th>CIT</th>\n",
       "      <th>MIG</th>\n",
       "      <th>MIL</th>\n",
       "      <th>ANC</th>\n",
       "      <th>NATIVITY</th>\n",
       "      <th>DEAR</th>\n",
       "      <th>DEYE</th>\n",
       "      <th>DREM</th>\n",
       "      <th>SEX</th>\n",
       "      <th>RAC1P</th>\n",
       "      <th>ESR</th>\n",
       "    </tr>\n",
       "  </thead>\n",
       "  <tbody>\n",
       "    <tr>\n",
       "      <th>0</th>\n",
       "      <td>77</td>\n",
       "      <td>19.0</td>\n",
       "      <td>3</td>\n",
       "      <td>16</td>\n",
       "      <td>2</td>\n",
       "      <td>NaN</td>\n",
       "      <td>1</td>\n",
       "      <td>3.0</td>\n",
       "      <td>4.0</td>\n",
       "      <td>1</td>\n",
       "      <td>1</td>\n",
       "      <td>2</td>\n",
       "      <td>2</td>\n",
       "      <td>2.0</td>\n",
       "      <td>2</td>\n",
       "      <td>1</td>\n",
       "      <td>6.0</td>\n",
       "    </tr>\n",
       "    <tr>\n",
       "      <th>1</th>\n",
       "      <td>18</td>\n",
       "      <td>18.0</td>\n",
       "      <td>5</td>\n",
       "      <td>17</td>\n",
       "      <td>2</td>\n",
       "      <td>NaN</td>\n",
       "      <td>1</td>\n",
       "      <td>1.0</td>\n",
       "      <td>4.0</td>\n",
       "      <td>2</td>\n",
       "      <td>1</td>\n",
       "      <td>2</td>\n",
       "      <td>2</td>\n",
       "      <td>2.0</td>\n",
       "      <td>2</td>\n",
       "      <td>9</td>\n",
       "      <td>1.0</td>\n",
       "    </tr>\n",
       "    <tr>\n",
       "      <th>2</th>\n",
       "      <td>28</td>\n",
       "      <td>21.0</td>\n",
       "      <td>5</td>\n",
       "      <td>17</td>\n",
       "      <td>2</td>\n",
       "      <td>NaN</td>\n",
       "      <td>1</td>\n",
       "      <td>1.0</td>\n",
       "      <td>4.0</td>\n",
       "      <td>2</td>\n",
       "      <td>1</td>\n",
       "      <td>2</td>\n",
       "      <td>2</td>\n",
       "      <td>2.0</td>\n",
       "      <td>1</td>\n",
       "      <td>1</td>\n",
       "      <td>1.0</td>\n",
       "    </tr>\n",
       "    <tr>\n",
       "      <th>3</th>\n",
       "      <td>22</td>\n",
       "      <td>19.0</td>\n",
       "      <td>5</td>\n",
       "      <td>17</td>\n",
       "      <td>2</td>\n",
       "      <td>NaN</td>\n",
       "      <td>1</td>\n",
       "      <td>1.0</td>\n",
       "      <td>4.0</td>\n",
       "      <td>1</td>\n",
       "      <td>1</td>\n",
       "      <td>2</td>\n",
       "      <td>2</td>\n",
       "      <td>2.0</td>\n",
       "      <td>1</td>\n",
       "      <td>1</td>\n",
       "      <td>6.0</td>\n",
       "    </tr>\n",
       "    <tr>\n",
       "      <th>4</th>\n",
       "      <td>50</td>\n",
       "      <td>1.0</td>\n",
       "      <td>5</td>\n",
       "      <td>17</td>\n",
       "      <td>1</td>\n",
       "      <td>NaN</td>\n",
       "      <td>1</td>\n",
       "      <td>1.0</td>\n",
       "      <td>4.0</td>\n",
       "      <td>1</td>\n",
       "      <td>1</td>\n",
       "      <td>2</td>\n",
       "      <td>1</td>\n",
       "      <td>1.0</td>\n",
       "      <td>2</td>\n",
       "      <td>1</td>\n",
       "      <td>6.0</td>\n",
       "    </tr>\n",
       "  </tbody>\n",
       "</table>\n",
       "</div>"
      ],
      "text/plain": [
       "   AGEP  SCHL  MAR  RELP  DIS  ESP  CIT  MIG  MIL  ANC  NATIVITY  DEAR  DEYE  \\\n",
       "0    77  19.0    3    16    2  NaN    1  3.0  4.0    1         1     2     2   \n",
       "1    18  18.0    5    17    2  NaN    1  1.0  4.0    2         1     2     2   \n",
       "2    28  21.0    5    17    2  NaN    1  1.0  4.0    2         1     2     2   \n",
       "3    22  19.0    5    17    2  NaN    1  1.0  4.0    1         1     2     2   \n",
       "4    50   1.0    5    17    1  NaN    1  1.0  4.0    1         1     2     1   \n",
       "\n",
       "   DREM  SEX  RAC1P  ESR  \n",
       "0   2.0    2      1  6.0  \n",
       "1   2.0    2      9  1.0  \n",
       "2   2.0    1      1  1.0  \n",
       "3   2.0    1      1  6.0  \n",
       "4   1.0    2      1  6.0  "
      ]
     },
     "execution_count": 2,
     "metadata": {},
     "output_type": "execute_result"
    }
   ],
   "source": [
    "possible_features=['AGEP', 'SCHL', 'MAR', 'RELP', 'DIS', 'ESP', 'CIT', 'MIG', 'MIL', 'ANC', 'NATIVITY', 'DEAR', 'DEYE', 'DREM', 'SEX', 'RAC1P', 'ESR']\n",
    "acs_data[possible_features].head()"
   ]
  },
  {
   "attachments": {},
   "cell_type": "markdown",
   "metadata": {},
   "source": [
    "For the sake of this project, we will only be focusing on Caucasian vs African American citizens. Therefore, we can filter our dataset for just these groups (1 corresponds to white, 2 corresponds to black)."
   ]
  },
  {
   "cell_type": "code",
   "execution_count": 3,
   "metadata": {},
   "outputs": [],
   "source": [
    "\n",
    "df = acs_data\n",
    "df = df[df['RAC1P'].isin([1, 2])]"
   ]
  },
  {
   "attachments": {},
   "cell_type": "markdown",
   "metadata": {},
   "source": [
    "To make our feature matrix, we want to include all the possible features except for two:  \n",
    "\n",
    "    ESR: Our target variable, employment status  \n",
    "    RAC1P: Race of citizen  "
   ]
  },
  {
   "cell_type": "code",
   "execution_count": 4,
   "metadata": {},
   "outputs": [],
   "source": [
    "features_to_use = [f for f in possible_features if f not in [\"ESR\", \"RAC1P\"]]\n"
   ]
  },
  {
   "attachments": {},
   "cell_type": "markdown",
   "metadata": {},
   "source": [
    "### Step 3: Construct employment problem"
   ]
  },
  {
   "attachments": {},
   "cell_type": "markdown",
   "metadata": {},
   "source": [
    "Now we can construct a BasicProblem that expresses our wish to use these features to predict employment status ESR, using the race RAC1P as the group label. Our implementation will return the following:  \n",
    "\n",
    "    features: Our feature matrix  \n",
    "    label: our y (target vector)  \n",
    "    group: a 1d array with the race of each row  "
   ]
  },
  {
   "cell_type": "code",
   "execution_count": 5,
   "metadata": {},
   "outputs": [],
   "source": [
    "EmploymentProblem = BasicProblem(\n",
    "    features=features_to_use,\n",
    "    target='ESR',\n",
    "    target_transform=lambda x: x == 1,\n",
    "    group='RAC1P',\n",
    "    preprocess=lambda x: x,\n",
    "    postprocess=lambda x: np.nan_to_num(x, -1),\n",
    ")\n",
    "\n",
    "features, label, group = EmploymentProblem.df_to_numpy(df)"
   ]
  },
  {
   "attachments": {},
   "cell_type": "markdown",
   "metadata": {},
   "source": [
    "### Step 4: Train / Test split"
   ]
  },
  {
   "attachments": {},
   "cell_type": "markdown",
   "metadata": {},
   "source": [
    "As with any good machine learning model, creating a train/test split for our data will be important for testing our algorithm and to prevent overfitting. The split will return the following data:   \n",
    "\n",
    "    X_train: our training subset of the feature matrix  \n",
    "    X_test: our testing subset of the feature matrix  \n",
    "    y_train: our training subset of the target vector  \n",
    "    y_test: our testing subset of the target vector  \n",
    "    group_train: our training subset of the group vector  \n",
    "    group_test: our testing subset of the group vector  "
   ]
  },
  {
   "cell_type": "code",
   "execution_count": 6,
   "metadata": {},
   "outputs": [],
   "source": [
    "from sklearn.model_selection import train_test_split\n",
    "X_train, X_test, y_train, y_test, group_train, group_test = train_test_split(\n",
    "    features, label, group, test_size=0.2, random_state=0)"
   ]
  },
  {
   "attachments": {},
   "cell_type": "markdown",
   "metadata": {},
   "source": [
    "### Step 4: Exploratory data analysis"
   ]
  },
  {
   "attachments": {},
   "cell_type": "markdown",
   "metadata": {},
   "source": [
    "To perform EDA, it will be helpful to revert our dataset back to a pandas dataframe.  \n",
    "  \n",
    "Let's also add our target vector and group vector back."
   ]
  },
  {
   "cell_type": "code",
   "execution_count": 7,
   "metadata": {},
   "outputs": [
    {
     "data": {
      "text/html": [
       "<div>\n",
       "<style scoped>\n",
       "    .dataframe tbody tr th:only-of-type {\n",
       "        vertical-align: middle;\n",
       "    }\n",
       "\n",
       "    .dataframe tbody tr th {\n",
       "        vertical-align: top;\n",
       "    }\n",
       "\n",
       "    .dataframe thead th {\n",
       "        text-align: right;\n",
       "    }\n",
       "</style>\n",
       "<table border=\"1\" class=\"dataframe\">\n",
       "  <thead>\n",
       "    <tr style=\"text-align: right;\">\n",
       "      <th></th>\n",
       "      <th>AGEP</th>\n",
       "      <th>SCHL</th>\n",
       "      <th>MAR</th>\n",
       "      <th>RELP</th>\n",
       "      <th>DIS</th>\n",
       "      <th>ESP</th>\n",
       "      <th>CIT</th>\n",
       "      <th>MIG</th>\n",
       "      <th>MIL</th>\n",
       "      <th>ANC</th>\n",
       "      <th>NATIVITY</th>\n",
       "      <th>DEAR</th>\n",
       "      <th>DEYE</th>\n",
       "      <th>DREM</th>\n",
       "      <th>SEX</th>\n",
       "      <th>group</th>\n",
       "      <th>label</th>\n",
       "    </tr>\n",
       "  </thead>\n",
       "  <tbody>\n",
       "    <tr>\n",
       "      <th>0</th>\n",
       "      <td>51.0</td>\n",
       "      <td>16.0</td>\n",
       "      <td>3.0</td>\n",
       "      <td>13.0</td>\n",
       "      <td>2.0</td>\n",
       "      <td>0.0</td>\n",
       "      <td>1.0</td>\n",
       "      <td>1.0</td>\n",
       "      <td>4.0</td>\n",
       "      <td>1.0</td>\n",
       "      <td>1.0</td>\n",
       "      <td>2.0</td>\n",
       "      <td>2.0</td>\n",
       "      <td>2.0</td>\n",
       "      <td>1.0</td>\n",
       "      <td>1</td>\n",
       "      <td>True</td>\n",
       "    </tr>\n",
       "    <tr>\n",
       "      <th>1</th>\n",
       "      <td>34.0</td>\n",
       "      <td>16.0</td>\n",
       "      <td>1.0</td>\n",
       "      <td>0.0</td>\n",
       "      <td>2.0</td>\n",
       "      <td>0.0</td>\n",
       "      <td>1.0</td>\n",
       "      <td>1.0</td>\n",
       "      <td>4.0</td>\n",
       "      <td>1.0</td>\n",
       "      <td>1.0</td>\n",
       "      <td>2.0</td>\n",
       "      <td>2.0</td>\n",
       "      <td>2.0</td>\n",
       "      <td>1.0</td>\n",
       "      <td>1</td>\n",
       "      <td>True</td>\n",
       "    </tr>\n",
       "    <tr>\n",
       "      <th>2</th>\n",
       "      <td>52.0</td>\n",
       "      <td>20.0</td>\n",
       "      <td>2.0</td>\n",
       "      <td>0.0</td>\n",
       "      <td>1.0</td>\n",
       "      <td>0.0</td>\n",
       "      <td>1.0</td>\n",
       "      <td>1.0</td>\n",
       "      <td>4.0</td>\n",
       "      <td>2.0</td>\n",
       "      <td>1.0</td>\n",
       "      <td>2.0</td>\n",
       "      <td>2.0</td>\n",
       "      <td>2.0</td>\n",
       "      <td>1.0</td>\n",
       "      <td>1</td>\n",
       "      <td>False</td>\n",
       "    </tr>\n",
       "    <tr>\n",
       "      <th>3</th>\n",
       "      <td>75.0</td>\n",
       "      <td>16.0</td>\n",
       "      <td>1.0</td>\n",
       "      <td>1.0</td>\n",
       "      <td>2.0</td>\n",
       "      <td>0.0</td>\n",
       "      <td>1.0</td>\n",
       "      <td>1.0</td>\n",
       "      <td>2.0</td>\n",
       "      <td>2.0</td>\n",
       "      <td>1.0</td>\n",
       "      <td>2.0</td>\n",
       "      <td>2.0</td>\n",
       "      <td>2.0</td>\n",
       "      <td>1.0</td>\n",
       "      <td>1</td>\n",
       "      <td>False</td>\n",
       "    </tr>\n",
       "    <tr>\n",
       "      <th>4</th>\n",
       "      <td>11.0</td>\n",
       "      <td>9.0</td>\n",
       "      <td>5.0</td>\n",
       "      <td>7.0</td>\n",
       "      <td>2.0</td>\n",
       "      <td>0.0</td>\n",
       "      <td>1.0</td>\n",
       "      <td>1.0</td>\n",
       "      <td>0.0</td>\n",
       "      <td>1.0</td>\n",
       "      <td>1.0</td>\n",
       "      <td>2.0</td>\n",
       "      <td>2.0</td>\n",
       "      <td>2.0</td>\n",
       "      <td>1.0</td>\n",
       "      <td>1</td>\n",
       "      <td>False</td>\n",
       "    </tr>\n",
       "    <tr>\n",
       "      <th>...</th>\n",
       "      <td>...</td>\n",
       "      <td>...</td>\n",
       "      <td>...</td>\n",
       "      <td>...</td>\n",
       "      <td>...</td>\n",
       "      <td>...</td>\n",
       "      <td>...</td>\n",
       "      <td>...</td>\n",
       "      <td>...</td>\n",
       "      <td>...</td>\n",
       "      <td>...</td>\n",
       "      <td>...</td>\n",
       "      <td>...</td>\n",
       "      <td>...</td>\n",
       "      <td>...</td>\n",
       "      <td>...</td>\n",
       "      <td>...</td>\n",
       "    </tr>\n",
       "    <tr>\n",
       "      <th>48914</th>\n",
       "      <td>6.0</td>\n",
       "      <td>2.0</td>\n",
       "      <td>5.0</td>\n",
       "      <td>7.0</td>\n",
       "      <td>2.0</td>\n",
       "      <td>7.0</td>\n",
       "      <td>1.0</td>\n",
       "      <td>1.0</td>\n",
       "      <td>0.0</td>\n",
       "      <td>2.0</td>\n",
       "      <td>1.0</td>\n",
       "      <td>2.0</td>\n",
       "      <td>2.0</td>\n",
       "      <td>2.0</td>\n",
       "      <td>1.0</td>\n",
       "      <td>1</td>\n",
       "      <td>False</td>\n",
       "    </tr>\n",
       "    <tr>\n",
       "      <th>48915</th>\n",
       "      <td>49.0</td>\n",
       "      <td>21.0</td>\n",
       "      <td>3.0</td>\n",
       "      <td>0.0</td>\n",
       "      <td>1.0</td>\n",
       "      <td>0.0</td>\n",
       "      <td>1.0</td>\n",
       "      <td>1.0</td>\n",
       "      <td>4.0</td>\n",
       "      <td>2.0</td>\n",
       "      <td>1.0</td>\n",
       "      <td>2.0</td>\n",
       "      <td>2.0</td>\n",
       "      <td>1.0</td>\n",
       "      <td>2.0</td>\n",
       "      <td>1</td>\n",
       "      <td>False</td>\n",
       "    </tr>\n",
       "    <tr>\n",
       "      <th>48916</th>\n",
       "      <td>13.0</td>\n",
       "      <td>10.0</td>\n",
       "      <td>5.0</td>\n",
       "      <td>2.0</td>\n",
       "      <td>2.0</td>\n",
       "      <td>7.0</td>\n",
       "      <td>1.0</td>\n",
       "      <td>3.0</td>\n",
       "      <td>0.0</td>\n",
       "      <td>1.0</td>\n",
       "      <td>1.0</td>\n",
       "      <td>2.0</td>\n",
       "      <td>2.0</td>\n",
       "      <td>2.0</td>\n",
       "      <td>1.0</td>\n",
       "      <td>1</td>\n",
       "      <td>False</td>\n",
       "    </tr>\n",
       "    <tr>\n",
       "      <th>48917</th>\n",
       "      <td>56.0</td>\n",
       "      <td>19.0</td>\n",
       "      <td>1.0</td>\n",
       "      <td>0.0</td>\n",
       "      <td>2.0</td>\n",
       "      <td>0.0</td>\n",
       "      <td>1.0</td>\n",
       "      <td>1.0</td>\n",
       "      <td>4.0</td>\n",
       "      <td>1.0</td>\n",
       "      <td>1.0</td>\n",
       "      <td>2.0</td>\n",
       "      <td>2.0</td>\n",
       "      <td>2.0</td>\n",
       "      <td>2.0</td>\n",
       "      <td>1</td>\n",
       "      <td>True</td>\n",
       "    </tr>\n",
       "    <tr>\n",
       "      <th>48918</th>\n",
       "      <td>72.0</td>\n",
       "      <td>7.0</td>\n",
       "      <td>2.0</td>\n",
       "      <td>16.0</td>\n",
       "      <td>1.0</td>\n",
       "      <td>0.0</td>\n",
       "      <td>1.0</td>\n",
       "      <td>1.0</td>\n",
       "      <td>4.0</td>\n",
       "      <td>1.0</td>\n",
       "      <td>1.0</td>\n",
       "      <td>1.0</td>\n",
       "      <td>2.0</td>\n",
       "      <td>1.0</td>\n",
       "      <td>2.0</td>\n",
       "      <td>1</td>\n",
       "      <td>False</td>\n",
       "    </tr>\n",
       "  </tbody>\n",
       "</table>\n",
       "<p>48919 rows × 17 columns</p>\n",
       "</div>"
      ],
      "text/plain": [
       "       AGEP  SCHL  MAR  RELP  DIS  ESP  CIT  MIG  MIL  ANC  NATIVITY  DEAR  \\\n",
       "0      51.0  16.0  3.0  13.0  2.0  0.0  1.0  1.0  4.0  1.0       1.0   2.0   \n",
       "1      34.0  16.0  1.0   0.0  2.0  0.0  1.0  1.0  4.0  1.0       1.0   2.0   \n",
       "2      52.0  20.0  2.0   0.0  1.0  0.0  1.0  1.0  4.0  2.0       1.0   2.0   \n",
       "3      75.0  16.0  1.0   1.0  2.0  0.0  1.0  1.0  2.0  2.0       1.0   2.0   \n",
       "4      11.0   9.0  5.0   7.0  2.0  0.0  1.0  1.0  0.0  1.0       1.0   2.0   \n",
       "...     ...   ...  ...   ...  ...  ...  ...  ...  ...  ...       ...   ...   \n",
       "48914   6.0   2.0  5.0   7.0  2.0  7.0  1.0  1.0  0.0  2.0       1.0   2.0   \n",
       "48915  49.0  21.0  3.0   0.0  1.0  0.0  1.0  1.0  4.0  2.0       1.0   2.0   \n",
       "48916  13.0  10.0  5.0   2.0  2.0  7.0  1.0  3.0  0.0  1.0       1.0   2.0   \n",
       "48917  56.0  19.0  1.0   0.0  2.0  0.0  1.0  1.0  4.0  1.0       1.0   2.0   \n",
       "48918  72.0   7.0  2.0  16.0  1.0  0.0  1.0  1.0  4.0  1.0       1.0   1.0   \n",
       "\n",
       "       DEYE  DREM  SEX  group  label  \n",
       "0       2.0   2.0  1.0      1   True  \n",
       "1       2.0   2.0  1.0      1   True  \n",
       "2       2.0   2.0  1.0      1  False  \n",
       "3       2.0   2.0  1.0      1  False  \n",
       "4       2.0   2.0  1.0      1  False  \n",
       "...     ...   ...  ...    ...    ...  \n",
       "48914   2.0   2.0  1.0      1  False  \n",
       "48915   2.0   1.0  2.0      1  False  \n",
       "48916   2.0   2.0  1.0      1  False  \n",
       "48917   2.0   2.0  2.0      1   True  \n",
       "48918   2.0   1.0  2.0      1  False  \n",
       "\n",
       "[48919 rows x 17 columns]"
      ]
     },
     "execution_count": 7,
     "metadata": {},
     "output_type": "execute_result"
    }
   ],
   "source": [
    "import pandas as pd\n",
    "df = pd.DataFrame(X_train, columns = features_to_use)\n",
    "df[\"group\"] = group_train\n",
    "df[\"label\"] = y_train\n",
    "df"
   ]
  },
  {
   "attachments": {},
   "cell_type": "markdown",
   "metadata": {},
   "source": [
    "Using this data frame, let's analyze some common questions:  "
   ]
  },
  {
   "attachments": {},
   "cell_type": "markdown",
   "metadata": {},
   "source": [
    "##### 1. How many individuals are in the data?"
   ]
  },
  {
   "cell_type": "code",
   "execution_count": 8,
   "metadata": {},
   "outputs": [
    {
     "name": "stdout",
     "output_type": "stream",
     "text": [
      "There are 48919 citizens in the dataset\n"
     ]
    }
   ],
   "source": [
    "num_citizens = len(df)\n",
    "print(f\"There are {num_citizens} citizens in the dataset\")"
   ]
  },
  {
   "attachments": {},
   "cell_type": "markdown",
   "metadata": {},
   "source": [
    "##### 2. Of these individuals, what proportion have target label equal to 1? "
   ]
  },
  {
   "cell_type": "code",
   "execution_count": 9,
   "metadata": {},
   "outputs": [
    {
     "name": "stdout",
     "output_type": "stream",
     "text": [
      "Percentage of employed individuals: 51.0%\n"
     ]
    }
   ],
   "source": [
    "percent = round((df['label'] == True).mean(), 2) * 100\n",
    "print(f\"Percentage of employed individuals: {percent}%\")"
   ]
  },
  {
   "attachments": {},
   "cell_type": "markdown",
   "metadata": {},
   "source": [
    "##### 3. Of these individuals, how many are in each of the groups?"
   ]
  },
  {
   "attachments": {},
   "cell_type": "markdown",
   "metadata": {},
   "source": [
    "##### Let's separate by group"
   ]
  },
  {
   "cell_type": "code",
   "execution_count": 10,
   "metadata": {},
   "outputs": [
    {
     "name": "stdout",
     "output_type": "stream",
     "text": [
      "Number of white: 45557\n",
      "Number of black: 3362\n"
     ]
    }
   ],
   "source": [
    "white = df[df['group'] == 1]\n",
    "black = df[df['group'] == 2]\n",
    "\n",
    "white_count = len(white)\n",
    "black_count = len(black)\n",
    "\n",
    "print(f\"Number of white: {white_count}\\nNumber of black: {black_count}\")\n"
   ]
  },
  {
   "attachments": {},
   "cell_type": "markdown",
   "metadata": {},
   "source": [
    "It is important to note that there are significantly more white entries than black!"
   ]
  },
  {
   "attachments": {},
   "cell_type": "markdown",
   "metadata": {},
   "source": [
    "##### 4. In each group, what proportion of individuals have target label equal to 1?"
   ]
  },
  {
   "cell_type": "code",
   "execution_count": 11,
   "metadata": {},
   "outputs": [
    {
     "name": "stdout",
     "output_type": "stream",
     "text": [
      "Percentage of white: 0.51\n",
      "Percentage of black: 0.46\n"
     ]
    }
   ],
   "source": [
    "white_percent = round((white['label'] == True).mean(), 2)\n",
    "black_percent = round((black['label'] == True).mean(), 2)\n",
    "\n",
    "print(f\"Percentage of white: {white_percent}\\nPercentage of black: {black_percent}\")"
   ]
  },
  {
   "attachments": {},
   "cell_type": "markdown",
   "metadata": {},
   "source": [
    "From this experiment, we can see that 51% of white citizens are employed compared to 46% of black citzens"
   ]
  },
  {
   "attachments": {},
   "cell_type": "markdown",
   "metadata": {},
   "source": [
    "##### 5. Intersectional trends"
   ]
  },
  {
   "cell_type": "code",
   "execution_count": 12,
   "metadata": {},
   "outputs": [
    {
     "data": {
      "text/html": [
       "<div>\n",
       "<style scoped>\n",
       "    .dataframe tbody tr th:only-of-type {\n",
       "        vertical-align: middle;\n",
       "    }\n",
       "\n",
       "    .dataframe tbody tr th {\n",
       "        vertical-align: top;\n",
       "    }\n",
       "\n",
       "    .dataframe thead th {\n",
       "        text-align: right;\n",
       "    }\n",
       "</style>\n",
       "<table border=\"1\" class=\"dataframe\">\n",
       "  <thead>\n",
       "    <tr style=\"text-align: right;\">\n",
       "      <th></th>\n",
       "      <th>group</th>\n",
       "      <th>SEX</th>\n",
       "      <th>Mean</th>\n",
       "    </tr>\n",
       "  </thead>\n",
       "  <tbody>\n",
       "    <tr>\n",
       "      <th>0</th>\n",
       "      <td>Black</td>\n",
       "      <td>F</td>\n",
       "      <td>0.497336</td>\n",
       "    </tr>\n",
       "    <tr>\n",
       "      <th>1</th>\n",
       "      <td>Black</td>\n",
       "      <td>M</td>\n",
       "      <td>0.430365</td>\n",
       "    </tr>\n",
       "    <tr>\n",
       "      <th>2</th>\n",
       "      <td>White</td>\n",
       "      <td>F</td>\n",
       "      <td>0.491007</td>\n",
       "    </tr>\n",
       "    <tr>\n",
       "      <th>3</th>\n",
       "      <td>White</td>\n",
       "      <td>M</td>\n",
       "      <td>0.537750</td>\n",
       "    </tr>\n",
       "  </tbody>\n",
       "</table>\n",
       "</div>"
      ],
      "text/plain": [
       "   group SEX      Mean\n",
       "0  Black   F  0.497336\n",
       "1  Black   M  0.430365\n",
       "2  White   F  0.491007\n",
       "3  White   M  0.537750"
      ]
     },
     "execution_count": 12,
     "metadata": {},
     "output_type": "execute_result"
    }
   ],
   "source": [
    "new_df = df.copy()\n",
    "new_df['SEX'] = new_df['SEX'].replace({1: 'M', 2: 'F'})\n",
    "new_df['group'] = new_df['group'].replace({1: 'White', 2: 'Black'})\n",
    "\n",
    "intersection = new_df.groupby(['group', 'SEX'])['label'].mean().reset_index(name = \"Mean\")\n",
    "intersection\n"
   ]
  },
  {
   "attachments": {},
   "cell_type": "markdown",
   "metadata": {},
   "source": [
    "Let's visualize this!"
   ]
  },
  {
   "cell_type": "code",
   "execution_count": 13,
   "metadata": {},
   "outputs": [
    {
     "data": {
      "image/png": "[encoded data removed]",
      "text/plain": [
       "<Figure size 640x480 with 1 Axes>"
      ]
     },
     "metadata": {},
     "output_type": "display_data"
    }
   ],
   "source": [
    "import seaborn as sns\n",
    "ax = sns.barplot(data=intersection, x= 'group', y='Mean', hue = 'SEX')"
   ]
  },
  {
   "attachments": {},
   "cell_type": "markdown",
   "metadata": {},
   "source": [
    "As we can see, for black citizens, females have a higher employment percentage (+5%)\n",
    "  \n",
    "However, for white citizens, males have a higher employment percentage (+4%)"
   ]
  },
  {
   "attachments": {},
   "cell_type": "markdown",
   "metadata": {},
   "source": [
    "### Step 5: Create model"
   ]
  },
  {
   "attachments": {},
   "cell_type": "markdown",
   "metadata": {},
   "source": [
    "Now, we will train a model in order to attempt classifying citizen employment. For this problem, we will use a decision tree. We could have used almost any classification model (SVM, Random forest, Logistic regression, etc.), but because we have a very large dataset, utilizing the decision tree efficiency makes sense.  "
   ]
  },
  {
   "attachments": {},
   "cell_type": "markdown",
   "metadata": {},
   "source": [
    "First, let's import the class from sklearn"
   ]
  },
  {
   "cell_type": "code",
   "execution_count": 14,
   "metadata": {},
   "outputs": [],
   "source": [
    "from sklearn import tree\n",
    "from sklearn.model_selection import cross_val_score"
   ]
  },
  {
   "attachments": {},
   "cell_type": "markdown",
   "metadata": {},
   "source": [
    "In the following code block, we perform the following operations:  \n",
    "\n",
    "1. Loop through options for the depth hyperparameter. In each iteration, we will....  \n",
    "    1. Create a tree with the respective max_depth  \n",
    "    2. Perform cross validation with 5 folds on our training data  \n",
    "    3. Take the average of the scores and append to the tree_cv  \n",
    "2. After the loop, we will choose the optimal depth from our array using the argmax method  \n",
    "3. Fit a new tree with our optimal depth  \n",
    "4. Get the accuracy after testing on our training data  "
   ]
  },
  {
   "cell_type": "code",
   "execution_count": 15,
   "metadata": {},
   "outputs": [
    {
     "name": "stdout",
     "output_type": "stream",
     "text": [
      "Optimal depth: 9\n",
      "Accuracy: 0.8354831456080459\n"
     ]
    }
   ],
   "source": [
    "tree_cv = []\n",
    "\n",
    "for depth in range(1, 10):\n",
    "\n",
    "    t = tree.DecisionTreeClassifier(max_depth=depth)\n",
    "    cv_scores_tree = cross_val_score(t, X_train, y_train, cv=5)\n",
    "    tree_cv.append(np.mean(cv_scores_tree))\n",
    "\n",
    "# Get top depth and fit on entire training\n",
    "optimal_depth = np.argmax(tree_cv) + 1\n",
    "print(\"Optimal depth: \" + str(optimal_depth))\n",
    "t = tree.DecisionTreeClassifier(max_depth=optimal_depth)\n",
    "t.fit(X_train, y_train)\n",
    "tree_score = t.score(X_train, y_train)\n",
    "\n",
    "print(\"Accuracy: \" + str(tree_score))\n",
    "\n"
   ]
  },
  {
   "attachments": {},
   "cell_type": "markdown",
   "metadata": {},
   "source": [
    "### Step 6: Audit & Metrics"
   ]
  },
  {
   "attachments": {},
   "cell_type": "markdown",
   "metadata": {},
   "source": [
    "Now, we will perform an audit to assess bias / fairness. We will start with overall metrics, and then we will split our data up by group and perform by-group assessment."
   ]
  },
  {
   "attachments": {},
   "cell_type": "markdown",
   "metadata": {},
   "source": [
    "First, let's use our test data to make predictions."
   ]
  },
  {
   "cell_type": "code",
   "execution_count": 16,
   "metadata": {},
   "outputs": [],
   "source": [
    "y_hat = t.predict(X_test)"
   ]
  },
  {
   "attachments": {},
   "cell_type": "markdown",
   "metadata": {},
   "source": [
    "#### Overall Metrics"
   ]
  },
  {
   "attachments": {},
   "cell_type": "markdown",
   "metadata": {},
   "source": [
    "##### Accuracy"
   ]
  },
  {
   "cell_type": "code",
   "execution_count": 17,
   "metadata": {},
   "outputs": [
    {
     "data": {
      "text/plain": [
       "0.8291087489779232"
      ]
     },
     "execution_count": 17,
     "metadata": {},
     "output_type": "execute_result"
    }
   ],
   "source": [
    "(y_hat == y_test).mean()"
   ]
  },
  {
   "attachments": {},
   "cell_type": "markdown",
   "metadata": {},
   "source": [
    "##### Positive Prediction Value (PPV)  \n",
    "\n",
    "The PPV is a performance metric that measures the proportion of positive predictions that are actually true positive cases. It is also known as the precision. It is particularly useful in situations where the cost of a false positive is high. In our project, it will not be as important as other metrics, but it is still useful to analyze.\n",
    "\n",
    "    PPV = TP/(TP + FP)"
   ]
  },
  {
   "cell_type": "code",
   "execution_count": 18,
   "metadata": {},
   "outputs": [
    {
     "data": {
      "text/plain": [
       "0.8070382966139288"
      ]
     },
     "execution_count": 18,
     "metadata": {},
     "output_type": "execute_result"
    }
   ],
   "source": [
    "from sklearn.metrics import precision_score\n",
    "ppv = precision_score(y_test, y_hat)\n",
    "ppv "
   ]
  },
  {
   "attachments": {},
   "cell_type": "markdown",
   "metadata": {},
   "source": [
    "##### Confusion Matrix"
   ]
  },
  {
   "cell_type": "code",
   "execution_count": 19,
   "metadata": {},
   "outputs": [],
   "source": [
    "from sklearn.metrics import confusion_matrix"
   ]
  },
  {
   "cell_type": "code",
   "execution_count": 20,
   "metadata": {},
   "outputs": [
    {
     "data": {
      "text/plain": [
       "array([[0.78202773, 0.21797227],\n",
       "       [0.12574083, 0.87425917]])"
      ]
     },
     "execution_count": 20,
     "metadata": {},
     "output_type": "execute_result"
    }
   ],
   "source": [
    "cm = confusion_matrix(y_test, y_hat, normalize='true')\n",
    "cm"
   ]
  },
  {
   "attachments": {},
   "cell_type": "markdown",
   "metadata": {},
   "source": [
    "##### False Negative Rate (FNR) and False Positive Rate (FPR)  \n",
    "\n",
    "    FNR = FN/(FN + TP)  \n",
    "    FPR = FP/(FP + TN)\n",
    "\n",
    "In other words, the false negative rate is the proportion of actual positive cases that are incorrectly classified as negative, while the false positive rate is the proportion of actual negative cases that are incorrectly classified as positive by our model.  \n",
    "\n",
    "An imbalance in these metrics among groups could be representative of bias within the model. Before breaking up our data into sections, let's analyze the whole group metrics."
   ]
  },
  {
   "cell_type": "code",
   "execution_count": 21,
   "metadata": {},
   "outputs": [
    {
     "name": "stdout",
     "output_type": "stream",
     "text": [
      "False Negative rate: 13.0%\n",
      "False Positive Rate: 22.0%\n"
     ]
    }
   ],
   "source": [
    "# False negative rate\n",
    "\n",
    "FN = cm[1, 0]\n",
    "TP = cm[1, 1]\n",
    "FNR = round(FN/(FN + TP), 2) * 100\n",
    "\n",
    "\n",
    "# False positive rate\n",
    "\n",
    "FP = cm[0, 1]\n",
    "TN = cm[0, 0]\n",
    "FPR = round(FP/(FP + TN), 2) * 100\n",
    "\n",
    "print(f\"False Negative rate: {FNR}%\\nFalse Positive Rate: {FPR}%\")"
   ]
  },
  {
   "attachments": {},
   "cell_type": "markdown",
   "metadata": {},
   "source": [
    "From these calculations, we see that our model has a higher FPR than FNR. This implies that our model over-predicts the number of employed citizens. Now, let's split our data into groups:"
   ]
  },
  {
   "attachments": {},
   "cell_type": "markdown",
   "metadata": {},
   "source": [
    "#### By-Group Measures"
   ]
  },
  {
   "attachments": {},
   "cell_type": "markdown",
   "metadata": {},
   "source": [
    "##### Split into subsets by race"
   ]
  },
  {
   "cell_type": "code",
   "execution_count": 22,
   "metadata": {},
   "outputs": [],
   "source": [
    "is_white = group_test == 1\n",
    "is_black = group_test == 2\n",
    "\n",
    "y_hat_black = y_hat[is_black]\n",
    "y_hat_white = y_hat[is_white]\n",
    "\n",
    "y_test_black = y_test[is_black]\n",
    "y_test_white = y_test[is_white]\n"
   ]
  },
  {
   "attachments": {},
   "cell_type": "markdown",
   "metadata": {},
   "source": [
    "First, let's analyze the accuracy for both races."
   ]
  },
  {
   "attachments": {},
   "cell_type": "markdown",
   "metadata": {},
   "source": [
    "##### White Accuracy"
   ]
  },
  {
   "cell_type": "code",
   "execution_count": 23,
   "metadata": {},
   "outputs": [
    {
     "data": {
      "text/plain": [
       "0.829"
      ]
     },
     "execution_count": 23,
     "metadata": {},
     "output_type": "execute_result"
    }
   ],
   "source": [
    "round((y_hat_white == y_test_white).mean(), 3)"
   ]
  },
  {
   "attachments": {},
   "cell_type": "markdown",
   "metadata": {},
   "source": [
    "##### Black Accuracy"
   ]
  },
  {
   "cell_type": "code",
   "execution_count": 24,
   "metadata": {},
   "outputs": [
    {
     "data": {
      "text/plain": [
       "0.831"
      ]
     },
     "execution_count": 24,
     "metadata": {},
     "output_type": "execute_result"
    }
   ],
   "source": [
    "round((y_hat_black == y_test_black).mean(), 3)"
   ]
  },
  {
   "attachments": {},
   "cell_type": "markdown",
   "metadata": {},
   "source": [
    "The accuracy for the two groups are just about equal. How about the PPV?"
   ]
  },
  {
   "attachments": {},
   "cell_type": "markdown",
   "metadata": {},
   "source": [
    "##### White PPV"
   ]
  },
  {
   "cell_type": "code",
   "execution_count": 25,
   "metadata": {},
   "outputs": [
    {
     "data": {
      "text/plain": [
       "0.808"
      ]
     },
     "execution_count": 25,
     "metadata": {},
     "output_type": "execute_result"
    }
   ],
   "source": [
    "ppv_white = precision_score(y_test_white, y_hat_white)\n",
    "round(ppv_white, 3)"
   ]
  },
  {
   "attachments": {},
   "cell_type": "markdown",
   "metadata": {},
   "source": [
    "##### Black PPV"
   ]
  },
  {
   "cell_type": "code",
   "execution_count": 26,
   "metadata": {},
   "outputs": [
    {
     "data": {
      "text/plain": [
       "0.785"
      ]
     },
     "execution_count": 26,
     "metadata": {},
     "output_type": "execute_result"
    }
   ],
   "source": [
    "ppv_black = precision_score(y_test_black, y_hat_black)\n",
    "round(ppv_black, 3)"
   ]
  },
  {
   "attachments": {},
   "cell_type": "markdown",
   "metadata": {},
   "source": [
    "Now, let's output the confusion matrices for both groups."
   ]
  },
  {
   "attachments": {},
   "cell_type": "markdown",
   "metadata": {},
   "source": [
    "##### White Confusion matrix:"
   ]
  },
  {
   "cell_type": "code",
   "execution_count": 27,
   "metadata": {},
   "outputs": [],
   "source": [
    "white_confusion = confusion_matrix(y_test_white, y_hat_white, normalize='true')"
   ]
  },
  {
   "cell_type": "code",
   "execution_count": 28,
   "metadata": {},
   "outputs": [
    {
     "data": {
      "text/plain": [
       "array([[0.78064633, 0.21935367],\n",
       "       [0.12534106, 0.87465894]])"
      ]
     },
     "execution_count": 28,
     "metadata": {},
     "output_type": "execute_result"
    }
   ],
   "source": [
    "white_confusion"
   ]
  },
  {
   "attachments": {},
   "cell_type": "markdown",
   "metadata": {},
   "source": [
    "##### Black Confusion Matrix"
   ]
  },
  {
   "cell_type": "code",
   "execution_count": 29,
   "metadata": {},
   "outputs": [],
   "source": [
    "black_confusion = confusion_matrix(y_test_black, y_hat_black, normalize='true')"
   ]
  },
  {
   "cell_type": "code",
   "execution_count": 30,
   "metadata": {},
   "outputs": [
    {
     "data": {
      "text/plain": [
       "array([[0.79910714, 0.20089286],\n",
       "       [0.13192612, 0.86807388]])"
      ]
     },
     "execution_count": 30,
     "metadata": {},
     "output_type": "execute_result"
    }
   ],
   "source": [
    "black_confusion"
   ]
  },
  {
   "attachments": {},
   "cell_type": "markdown",
   "metadata": {},
   "source": [
    "From a first glance, these confusion matrices seem pretty equal. the model is very accurate in predicting true negatives, and a little less accurate in predicting true positives. When the model misses for both groups, it is usually towards a false negative. Now, we will analyze the FNR and FPR for both groups."
   ]
  },
  {
   "attachments": {},
   "cell_type": "markdown",
   "metadata": {},
   "source": [
    "##### FNR and FPR"
   ]
  },
  {
   "cell_type": "code",
   "execution_count": 31,
   "metadata": {},
   "outputs": [
    {
     "name": "stdout",
     "output_type": "stream",
     "text": [
      "False Negative rate (White): 13.0%\n",
      "False Positive Rate (White): 22.0%\n",
      "False Negative rate (Black): 13.0%\n",
      "False Positive Rate (Black): 20.0%\n"
     ]
    }
   ],
   "source": [
    "# White metrics\n",
    "\n",
    "# False negative rate\n",
    "\n",
    "FN_W = white_confusion[1, 0]\n",
    "TP_W = white_confusion[1, 1]\n",
    "FNR_W = round(FN_W/(FN_W + TP_W), 2) * 100\n",
    "\n",
    "\n",
    "# False positive rate\n",
    "\n",
    "FP_W = white_confusion[0, 1]\n",
    "TN_W = white_confusion[0, 0]\n",
    "FPR_W = round(FP_W/(FP_W + TN_W), 2) * 100\n",
    "\n",
    "print(f\"False Negative rate (White): {FNR_W}%\\nFalse Positive Rate (White): {FPR_W}%\")\n",
    "\n",
    "# Black metrics\n",
    "\n",
    "# False negative rate\n",
    "\n",
    "FN_B = black_confusion[1, 0]\n",
    "TP_B = black_confusion[1, 1]\n",
    "FNR_B = round(FN_B/(FN_B + TP_B), 2) * 100\n",
    "\n",
    "\n",
    "# False positive rate\n",
    "\n",
    "FP_B = black_confusion[0, 1]\n",
    "TN_B = black_confusion[0, 0]\n",
    "FPR_B = round(FP_B/(FP_B + TN_B), 2) * 100\n",
    "\n",
    "print(f\"False Negative rate (Black): {FNR_B}%\\nFalse Positive Rate (Black): {FPR_B}%\")"
   ]
  },
  {
   "attachments": {},
   "cell_type": "markdown",
   "metadata": {},
   "source": [
    "Here, we see a slight difference in the FPR for white and black individuals. This disparity represents slight predictive inequality. Although only 2%, in a massive dataset (like censuses), this can affect hundreds of citizens and is a true example of predictive bias."
   ]
  },
  {
   "attachments": {},
   "cell_type": "markdown",
   "metadata": {},
   "source": [
    "#### Bias measures"
   ]
  },
  {
   "attachments": {},
   "cell_type": "markdown",
   "metadata": {},
   "source": [
    "##### Calibration"
   ]
  },
  {
   "cell_type": "code",
   "execution_count": 32,
   "metadata": {},
   "outputs": [
    {
     "data": {
      "text/plain": [
       "<Axes: xlabel='y_pred', ylabel='y'>"
      ]
     },
     "execution_count": 32,
     "metadata": {},
     "output_type": "execute_result"
    },
    {
     "data": {
      "image/png": "[encoded data removed]",
      "text/plain": [
       "<Figure size 640x480 with 1 Axes>"
      ]
     },
     "metadata": {},
     "output_type": "display_data"
    }
   ],
   "source": [
    "calibration = pd.DataFrame(X_test, columns = features_to_use)\n",
    "calibration['y_pred'] = y_hat\n",
    "calibration['y'] = y_test\n",
    "calibration['race'] = group_test\n",
    "calibration['race'] = calibration['race'].replace({1: 'White', 2: 'Black'})\n",
    "\n",
    "means = calibration.groupby([\"race\", \"y_pred\"])[\"y\"].mean().reset_index(name = \"mean\")\n",
    "sns.barplot(data = calibration, x = \"y_pred\", y = \"y\", hue = \"race\")"
   ]
  },
  {
   "attachments": {},
   "cell_type": "markdown",
   "metadata": {},
   "source": [
    "In our calibration plot, we see that slightly more white than black defendants are actually employed compared to the predictions. This plot is otherwise very balanced and I would argue our model is calibrated."
   ]
  },
  {
   "attachments": {},
   "cell_type": "markdown",
   "metadata": {},
   "source": [
    "##### Error rate balance"
   ]
  },
  {
   "cell_type": "code",
   "execution_count": 33,
   "metadata": {},
   "outputs": [
    {
     "data": {
      "text/plain": [
       "25.13493521677922"
      ]
     },
     "execution_count": 33,
     "metadata": {},
     "output_type": "execute_result"
    }
   ],
   "source": [
    "ERB = 100 * (FP - (FNR/100)) / ( (FPR/100) + (FNR/100) )\n",
    "ERB"
   ]
  },
  {
   "attachments": {},
   "cell_type": "markdown",
   "metadata": {},
   "source": [
    "We have a fairly positive ERB, which implies that our false positive rate is higher than our false negative rate. In other words, our model predicts that unemployed individuals are employed more frequently than it predicts employed individuals are unemployed."
   ]
  },
  {
   "cell_type": "code",
   "execution_count": 34,
   "metadata": {},
   "outputs": [
    {
     "data": {
      "text/plain": [
       "0.98"
      ]
     },
     "execution_count": 34,
     "metadata": {},
     "output_type": "execute_result"
    }
   ],
   "source": [
    "PPR_white = (TP_W + FP_W) / (TP_W + FP_W + TN_W + FN_W)\n",
    "PPR_black = (TP_B + FP_B) / (TP_B + FP_B + TN_B + FN_B)\n",
    "\n",
    "ratio = PPR_black/PPR_white\n",
    "round(ratio, 2)"
   ]
  },
  {
   "attachments": {},
   "cell_type": "markdown",
   "metadata": {},
   "source": [
    "There is a slight disparity favoring white individuals, which suggests these individuals receive slightly more positive predictions from the model. Once again, although this difference is very small, in a massive dataset, there could be a noticeable impact, so it is worth mentioning."
   ]
  },
  {
   "attachments": {},
   "cell_type": "markdown",
   "metadata": {},
   "source": [
    "### Conclusion"
   ]
  },
  {
   "attachments": {},
   "cell_type": "markdown",
   "metadata": {},
   "source": [
    "In conclusion, our model is slightly biased towards white people. We see this disparity when calculating the PPV, FPR and error rate balance. Let's go into a little more detail about potential stakeholders in the context of the employment problems.   \n",
    "\n",
    "1. <b>Who could benefit?</b> \n",
    "\n",
    "    <u>Hiring agencies</u>: For companies that make money off of recruitment / hiring, this algorithm could be utilized to narrow down just those who are unemployed. This could save the company time and money.  \n",
    "\n",
    "    <u>Job search agencies</u>: Think about Indeed, Handshake, etc. If they can predict who is unemployed, they can improve recommendations and success rates.  \n",
    "\n",
    "    <u>Economists</u>: This algorithm could be used to analyze macro-trends in our society and therefore implement regulations into our society to shift employment rates.\n",
    "\n",
    "2. <b>Who could be the impact?</b>\n",
    "\n",
    "    In general, any discrimination will lead to bias being leaked into our society. This bias could affect hiring decisions, bank loans, policy implementation, and general sentiment. Even though the discrepancy in the model is small, positive feedback loops of bias could create long term problems.\n",
    "\n",
    "3. <b>Problematic bias?</b>  \n",
    "\n",
    "    It is hard to tell how problematic this bias could be. As I mentioned, there is a disparity in the FPR and the error rate balance. Even though these biases are small, it is difficult to imagine the effect they could have at the scale of a country like the USA.\n",
    "\n",
    "4. <b>Other problems?</b>\n",
    "\n",
    "    As with any model that uses big data (especially census data), the issue of privacy is present. This is real data, taken from real surveys, and therefore any model predicting behaviors of citizens is going to be contentious.\n",
    "\n",
    "    "
   ]
  },
  {
   "attachments": {},
   "cell_type": "markdown",
   "metadata": {},
   "source": [
    "### Hope you enjoyed this blog!"
   ]
  }
 ],
 "metadata": {
  "kernelspec": {
   "display_name": "ml-0451",
   "language": "python",
   "name": "python3"
  },
  "language_info": {
   "codemirror_mode": {
    "name": "ipython",
    "version": 3
   },
   "file_extension": ".py",
   "mimetype": "text/x-python",
   "name": "python",
   "nbconvert_exporter": "python",
   "pygments_lexer": "ipython3",
   "version": "3.9.16"
  },
  "orig_nbformat": 4
 },
 "nbformat": 4,
 "nbformat_minor": 2
}
